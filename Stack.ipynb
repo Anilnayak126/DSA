{
 "cells": [
  {
   "cell_type": "markdown",
   "metadata": {},
   "source": [
    "## STACK"
   ]
  },
  {
   "cell_type": "markdown",
   "metadata": {},
   "source": [
    "### stack using list"
   ]
  },
  {
   "cell_type": "code",
   "execution_count": 2,
   "metadata": {},
   "outputs": [
    {
     "name": "stdout",
     "output_type": "stream",
     "text": [
      "1.Push\n",
      "2.Pop\n",
      "3.Display\n",
      "12 Added !!\n",
      "1.Push\n",
      "2.Pop\n",
      "3.Display\n",
      "23 Added !!\n",
      "1.Push\n",
      "2.Pop\n",
      "3.Display\n",
      "23, 12, 1.Push\n",
      "2.Pop\n",
      "3.Display\n"
     ]
    }
   ],
   "source": [
    "stack = list()\n",
    "\n",
    "def Stack(stack):\n",
    "\n",
    "    def push(arr,data):\n",
    "\n",
    "        if len(arr) == 0 :\n",
    "            arr.append(data)\n",
    "            print(f\"{data} Added !!\")\n",
    "            return\n",
    "\n",
    "        arr.insert(0,data)\n",
    "        print(f\"{data} Added !!\")\n",
    "    \n",
    "    def  pop(arr):\n",
    "\n",
    "        if len(arr) == 0:\n",
    "            print(\"Stack is Empty.\")\n",
    "            return\n",
    "        del arr[0]\n",
    "        print('first element deleted !!')\n",
    "    \n",
    "    def display(arr):\n",
    "        if len(arr) == 0:\n",
    "            print('stack is empty..')\n",
    "            return\n",
    "        for i in arr:\n",
    "            print(i,end=', ')\n",
    "\n",
    "    while True:\n",
    "        print(\"1.Push\\n2.Pop\\n3.Display\")\n",
    "        choice = input(\"enter a choice of urs :\")\n",
    "        \n",
    "        if choice == '1':\n",
    "            data = input('Enter  Element you want to push:')\n",
    "            push(stack,data)\n",
    "\n",
    "        elif choice == '2':\n",
    "            pop(stack)\n",
    "\n",
    "        elif choice == '3':\n",
    "            display(stack)\n",
    "        else:\n",
    "            break\n",
    "\n",
    "\n",
    "Stack(stack)\n",
    "\n",
    "\n",
    "        "
   ]
  },
  {
   "cell_type": "markdown",
   "metadata": {},
   "source": [
    "## stack using Linked List"
   ]
  },
  {
   "cell_type": "code",
   "execution_count": 6,
   "metadata": {},
   "outputs": [
    {
     "name": "stdout",
     "output_type": "stream",
     "text": [
      "79-->23-->None\n"
     ]
    }
   ],
   "source": [
    "class Node:\n",
    "    def __init__(self,data):\n",
    "        self.data = data\n",
    "        self.next = None\n",
    "\n",
    "class Stack:\n",
    "    def __init__(self):\n",
    "        self.top = None\n",
    "\n",
    "    def push(self,data):\n",
    "        new_node = Node(data)\n",
    "        if self.top is None:\n",
    "            self.top = new_node\n",
    "            return\n",
    "        new_node.next = self.top\n",
    "        self.top = new_node\n",
    "    \n",
    "\n",
    "    def pop(self):\n",
    "\n",
    "        if self.top is None:\n",
    "            print('Stack is Empty..')\n",
    "            return\n",
    "        \n",
    "        if self.top.next is None:\n",
    "            self.top = None\n",
    "            return\n",
    "        temp = self.top\n",
    "        self.top = temp.next\n",
    "        temp = None\n",
    "\n",
    "    def display(self):\n",
    "        if self.top is None:\n",
    "            print(\"Stack is None..\")\n",
    "            return\n",
    "        temp = self.top\n",
    "        while temp: \n",
    "            print(temp.data,end='-->')\n",
    "            temp = temp.next\n",
    "        print('None')\n",
    "\n",
    "stack = Stack()\n",
    "\n",
    "stack.push(23)\n",
    "stack.push(79)\n",
    "stack.push(9)\n",
    "stack.pop()\n",
    "stack.display()\n"
   ]
  }
 ],
 "metadata": {
  "kernelspec": {
   "display_name": "dsa",
   "language": "python",
   "name": "python3"
  },
  "language_info": {
   "codemirror_mode": {
    "name": "ipython",
    "version": 3
   },
   "file_extension": ".py",
   "mimetype": "text/x-python",
   "name": "python",
   "nbconvert_exporter": "python",
   "pygments_lexer": "ipython3",
   "version": "3.12.4"
  }
 },
 "nbformat": 4,
 "nbformat_minor": 2
}
