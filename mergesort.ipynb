{
 "cells": [
  {
   "cell_type": "markdown",
   "metadata": {},
   "source": [
    "### Merge Sort"
   ]
  },
  {
   "cell_type": "code",
   "execution_count": 8,
   "metadata": {},
   "outputs": [
    {
     "name": "stdout",
     "output_type": "stream",
     "text": [
      "[2, 2, 23, 44, 67, 145]\n"
     ]
    }
   ],
   "source": [
    "def merge_sort( arr):\n",
    "\n",
    "    if len(arr) <= 1 :\n",
    "        return arr\n",
    "    mid = len(arr) // 2\n",
    "\n",
    "    left_half = arr[:mid]\n",
    "    right_half = arr[mid:]\n",
    "\n",
    "    left_sorted = merge_sort(left_half)\n",
    "    right_sorted = merge_sort(right_half)\n",
    "\n",
    "    return merge_two_sorted_array(left_sorted,right_sorted)\n",
    "\n",
    "\n",
    "def merge_two_sorted_array(a,b):\n",
    "\n",
    "    sorted_list = []\n",
    "    \n",
    "    len_a = len(a)\n",
    "    len_b = len(b)\n",
    "\n",
    "    i = j = 0 \n",
    "\n",
    "    while i < len_a and j < len_b:\n",
    "        if a[i] <= b[j]:\n",
    "            sorted_list.append(a[i])\n",
    "            i += 1\n",
    "        else:\n",
    "            sorted_list.append(b[j])\n",
    "            j += 1\n",
    "    \n",
    "    while i < len_a:\n",
    "        sorted_list.append(a[i])\n",
    "        i += 1\n",
    "    \n",
    "    while j < len_b:\n",
    "        sorted_list.append(b[j])\n",
    "        j += 1 \n",
    "\n",
    "    return sorted_list\n",
    "\n",
    "            \n",
    "    \n",
    "arr = [23,44,2,145,2,67]\n",
    "\n",
    "res = merge_sort(arr)\n",
    "\n",
    "print(res)\n",
    "\n",
    "    "
   ]
  },
  {
   "cell_type": "markdown",
   "metadata": {},
   "source": [
    "Optimized mergesort "
   ]
  },
  {
   "cell_type": "code",
   "execution_count": 15,
   "metadata": {},
   "outputs": [
    {
     "name": "stdout",
     "output_type": "stream",
     "text": [
      "[1, 2, 12, 34]\n"
     ]
    }
   ],
   "source": [
    "def merge_sort(arr):\n",
    "    if len(arr) <= 1:\n",
    "        return \n",
    "    mid =  len(arr) // 2\n",
    "    left_side = arr[:mid]\n",
    "    right_side = arr[mid:]\n",
    "\n",
    "    merge_sort(left_side)\n",
    "    merge_sort(right_side)\n",
    "\n",
    "    merge_two_sorted_array(left_side,right_side,arr )\n",
    "\n",
    "def merge_two_sorted_array(a,b,arr):\n",
    "    len_a = len(a)\n",
    "    len_b = len(b)\n",
    "\n",
    "    i = j = k = 0\n",
    "\n",
    "    while i < len_a and j < len_b:\n",
    "        if a[i] <= b[j]:\n",
    "            arr[k] = a[i]\n",
    "            i += 1 \n",
    "\n",
    "        else:\n",
    "            arr[k]= b[j]\n",
    "            j += 1 \n",
    "        k += 1\n",
    "\n",
    "    while i < len_a:\n",
    "        arr[k] = a[i]\n",
    "        i += 1\n",
    "        k += 1 \n",
    "\n",
    "    while j < len_b:\n",
    "        arr[k] = b[j]\n",
    "        j += 1\n",
    "        k += 1\n",
    "\n",
    "arr = [12,34,2,1]\n",
    "\n",
    "merge_sort(arr)\n",
    "\n",
    "print(arr)\n"
   ]
  },
  {
   "cell_type": "markdown",
   "metadata": {},
   "source": [
    "#### Find Kth Smallest Element Using Merge Sort"
   ]
  },
  {
   "cell_type": "code",
   "execution_count": 9,
   "metadata": {},
   "outputs": [
    {
     "name": "stdout",
     "output_type": "stream",
     "text": [
      "7\n"
     ]
    }
   ],
   "source": [
    "def merge_sort(arr):\n",
    "    if len(arr) <= 1:\n",
    "        return arr \n",
    "    mid = len(arr) // 2\n",
    "\n",
    "    left_half =  arr[:mid]\n",
    "    right_half = arr[mid:]\n",
    "\n",
    "    left_sorted = merge_sort(left_half)\n",
    "    right_sorted = merge_sort(right_half)\n",
    "\n",
    "    arr = merge_two_sorted_array(left_sorted,right_sorted)\n",
    "\n",
    "    return arr\n",
    "\n",
    "def merge_two_sorted_array(a,b):\n",
    "    sorted_list = []\n",
    "\n",
    "    len_a = len(a)\n",
    "    len_b = len(b)\n",
    "\n",
    "    i = j = 0\n",
    "\n",
    "    while i < len_a and j < len_b:\n",
    "        if a[i] < b[j]:\n",
    "            sorted_list.append(a[i])\n",
    "            i +=1\n",
    "        else:\n",
    "            sorted_list.append(b[j])\n",
    "            j +=  1\n",
    "\n",
    "    while i < len_a:\n",
    "        sorted_list.append(a[i])\n",
    "        i += 1\n",
    "    while j < len_b:\n",
    "        sorted_list.append(b[j])\n",
    "        j += 1\n",
    "\n",
    "    return  sorted_list\n",
    "\n",
    "arr = [7, 10, 4, 3, 20, 15]\n",
    "k = 3\n",
    "\n",
    "print(merge_sort(arr)[k - 1])\n",
    "\n"
   ]
  }
 ],
 "metadata": {
  "kernelspec": {
   "display_name": "dsa",
   "language": "python",
   "name": "python3"
  },
  "language_info": {
   "codemirror_mode": {
    "name": "ipython",
    "version": 3
   },
   "file_extension": ".py",
   "mimetype": "text/x-python",
   "name": "python",
   "nbconvert_exporter": "python",
   "pygments_lexer": "ipython3",
   "version": "3.12.4"
  }
 },
 "nbformat": 4,
 "nbformat_minor": 2
}
