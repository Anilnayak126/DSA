{
 "cells": [
  {
   "cell_type": "markdown",
   "id": "26ab7a14",
   "metadata": {},
   "source": [
    "Two Pointers"
   ]
  },
  {
   "cell_type": "code",
   "execution_count": 2,
   "id": "71d1c0d4",
   "metadata": {},
   "outputs": [
    {
     "name": "stdout",
     "output_type": "stream",
     "text": [
      "[533, 434, 3, 12]\n"
     ]
    }
   ],
   "source": [
    "def reverse(arr):\n",
    "    i = 0\n",
    "    j = len(arr) - 1\n",
    "\n",
    "    while i < j: \n",
    "        arr[j],arr[i] = arr[i],arr[j]\n",
    "        i += 1\n",
    "        j -= 1\n",
    "    \n",
    "    \n",
    "\n",
    "arr = [12,3,434,533]\n",
    "\n",
    "reverse(arr)\n",
    "\n",
    "print(arr)\n"
   ]
  }
 ],
 "metadata": {
  "kernelspec": {
   "display_name": "dsa",
   "language": "python",
   "name": "python3"
  },
  "language_info": {
   "codemirror_mode": {
    "name": "ipython",
    "version": 3
   },
   "file_extension": ".py",
   "mimetype": "text/x-python",
   "name": "python",
   "nbconvert_exporter": "python",
   "pygments_lexer": "ipython3",
   "version": "3.12.4"
  }
 },
 "nbformat": 4,
 "nbformat_minor": 5
}
