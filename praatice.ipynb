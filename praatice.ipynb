{
 "cells": [
  {
   "cell_type": "code",
   "execution_count": 10,
   "metadata": {},
   "outputs": [
    {
     "data": {
      "text/plain": [
       "({'Anil': 'A++', 'Sunil': 'A++', 'Ankita': 'C'},\n",
       " {'Anil': 80.0, 'Sunil': 82.0, 'Ankita': 50.0})"
      ]
     },
     "execution_count": 10,
     "metadata": {},
     "output_type": "execute_result"
    }
   ],
   "source": [
    "stnts = [\"Anil\",\"Sunil\",\"Ankita\"]\n",
    "rslts = [120,123,75]\n",
    "\n",
    "students_with_r = dict(zip(stnts,rslts))\n",
    "stndt_with_per = {key : (value / 150 * 100) for key,value in students_with_r.items()}\n",
    "\n",
    "\n",
    "def grading(value):\n",
    "\n",
    "    if value >= 80:\n",
    "        return 'A++'\n",
    "\n",
    "    elif value >= 60:\n",
    "        return 'A'\n",
    "   \n",
    "    else:\n",
    "        return 'C'\n",
    "\n",
    "stnds_wth_grade = {key: (grading(value)) for key,value in stndt_with_per.items() }\n",
    "\n",
    "stnds_wth_grade,stndt_with_per\n",
    "\n"
   ]
  },
  {
   "cell_type": "code",
   "execution_count": 1,
   "metadata": {},
   "outputs": [
    {
     "data": {
      "text/plain": [
       "[1, 2, 3, 4, 5, 6, 7, 8, 9]"
      ]
     },
     "execution_count": 1,
     "metadata": {},
     "output_type": "execute_result"
    }
   ],
   "source": [
    "# sorted a tuple \n",
    "\n",
    "tuple1 = tuple(i for i in range(1,10))\n",
    "\n",
    "sortedtuple = sorted(tuple1,key=lambda x: x > 5)\n",
    "\n",
    "sortedtuple \n",
    "\n"
   ]
  },
  {
   "cell_type": "code",
   "execution_count": null,
   "metadata": {},
   "outputs": [
    {
     "name": "stdout",
     "output_type": "stream",
     "text": [
      "Not Found\n"
     ]
    }
   ],
   "source": [
    "\n",
    "from datetime import time\n",
    "# time.\n",
    "def Binary_search(arr,target):\n",
    "\n",
    "    low,high = 0, len(arr) - 1\n",
    "\n",
    "    while low <= high:\n",
    "        mid = low + (high - low) // 2 \n",
    "\n",
    "        if arr[mid] == target:\n",
    "            print(\"Found\")\n",
    "            return \n",
    "        elif arr[mid] > target:\n",
    "            high = mid - 1\n",
    "        else:\n",
    "            low = mid + 1\n",
    "\n",
    "    print(\"Not Found\")\n",
    "\n",
    "arr = [1,2,3,4,5,6]\n",
    "\n",
    "Binary_search(arr,0)\n",
    "\n",
    "\n"
   ]
  }
 ],
 "metadata": {
  "kernelspec": {
   "display_name": "dsa",
   "language": "python",
   "name": "python3"
  },
  "language_info": {
   "codemirror_mode": {
    "name": "ipython",
    "version": 3
   },
   "file_extension": ".py",
   "mimetype": "text/x-python",
   "name": "python",
   "nbconvert_exporter": "python",
   "pygments_lexer": "ipython3",
   "version": "3.12.4"
  }
 },
 "nbformat": 4,
 "nbformat_minor": 2
}
