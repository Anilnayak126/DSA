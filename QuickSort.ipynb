{
 "cells": [
  {
   "cell_type": "markdown",
   "metadata": {},
   "source": [
    "## Quick Sort Code"
   ]
  },
  {
   "cell_type": "code",
   "execution_count": 3,
   "metadata": {},
   "outputs": [
    {
     "name": "stdout",
     "output_type": "stream",
     "text": [
      "[10, 30, 40, 50, 70, 80, 90]\n"
     ]
    }
   ],
   "source": [
    "def quicksort(arr):\n",
    "    if len(arr) <= 1:\n",
    "        return arr\n",
    "    \n",
    "    pivot = arr[len(arr) - 1]\n",
    "\n",
    "    left,right = [],[]\n",
    "\n",
    "    for i in range(len(arr) - 1):\n",
    "        if arr[i] <= pivot:\n",
    "            left.append(arr[i])\n",
    "        else: \n",
    "            right.append(arr[i])\n",
    "    \n",
    "    return quicksort(left) + [pivot] + quicksort(right)\n",
    "\n",
    "arr = [10, 80, 30, 90, 40, 50, 70]\n",
    "\n",
    "print(quicksort(arr))"
   ]
  },
  {
   "cell_type": "markdown",
   "metadata": {},
   "source": [
    " Find Kth Smallest Element Using Quick Sort"
   ]
  },
  {
   "cell_type": "code",
   "execution_count": 4,
   "metadata": {},
   "outputs": [
    {
     "name": "stdout",
     "output_type": "stream",
     "text": [
      "7\n"
     ]
    }
   ],
   "source": [
    "def  find_kth_smallest(arr):\n",
    "    if len(arr) <= 1:\n",
    "        return arr\n",
    "    pivot = arr[len(arr) - 1]\n",
    "\n",
    "    left,right = [],[]\n",
    "\n",
    "    for  i in range(len(arr) - 1):\n",
    "        if arr[i] <= pivot:\n",
    "            left.append(arr[i])\n",
    "        right.append(arr[i])\n",
    "\n",
    "    return find_kth_smallest(left) + [pivot] + find_kth_smallest(right)\n",
    "\n",
    "arr = [7, 10, 4, 3, 20, 15]\n",
    "k = 3\n",
    "\n",
    "print(find_kth_smallest(arr)[k - 1])\n",
    "\n",
    "\n",
    "\n",
    "     "
   ]
  }
 ],
 "metadata": {
  "kernelspec": {
   "display_name": "dsa",
   "language": "python",
   "name": "python3"
  },
  "language_info": {
   "codemirror_mode": {
    "name": "ipython",
    "version": 3
   },
   "file_extension": ".py",
   "mimetype": "text/x-python",
   "name": "python",
   "nbconvert_exporter": "python",
   "pygments_lexer": "ipython3",
   "version": "3.12.4"
  }
 },
 "nbformat": 4,
 "nbformat_minor": 2
}
