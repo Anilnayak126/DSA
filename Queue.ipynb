{
 "cells": [
  {
   "cell_type": "markdown",
   "metadata": {},
   "source": [
    "## Queue"
   ]
  },
  {
   "cell_type": "markdown",
   "metadata": {},
   "source": [
    "### Queue using python list"
   ]
  },
  {
   "cell_type": "code",
   "execution_count": 2,
   "metadata": {},
   "outputs": [
    {
     "name": "stdout",
     "output_type": "stream",
     "text": [
      "1. Append\n",
      "2. Pop\n",
      "3. Display\n",
      "23 Added\n",
      "1. Append\n",
      "2. Pop\n",
      "3. Display\n",
      "45 Added\n",
      "1. Append\n",
      "2. Pop\n",
      "3. Display\n",
      "45 Added\n",
      "1. Append\n",
      "2. Pop\n",
      "3. Display\n",
      "23, 45, 45, 1. Append\n",
      "2. Pop\n",
      "3. Display\n",
      "23, 45, 45, 1. Append\n",
      "2. Pop\n",
      "3. Display\n"
     ]
    }
   ],
   "source": [
    "queue = list()\n",
    "\n",
    "def Queue(queue):\n",
    "\n",
    "    def enqueue(arr,data):\n",
    "        arr.append(data)\n",
    "        print(f\"{data} Added\")\n",
    "    \n",
    "    def dequeue(arr):\n",
    "        if len(arr) == 0:\n",
    "            print('Queue is empty..')\n",
    "            return \n",
    "        del arr[0]\n",
    "        print('data removed from queue...')\n",
    "    \n",
    "    def display(arr):\n",
    "        if len(arr) == 0:\n",
    "            print('Queue is empty..')\n",
    "            return\n",
    "        for i in arr:\n",
    "            print(i,end=', ')\n",
    "    \n",
    "    while True:\n",
    "        print('1. Append\\n2. Pop\\n3. Display')\n",
    "        choice = input('enter your choice :')\n",
    "\n",
    "        if choice == '1':\n",
    "            data = input('Enter a element to enqueue..: ')\n",
    "            enqueue(queue,data)\n",
    "        elif choice == '2':\n",
    "            dequeue(queue)\n",
    "        elif choice =='3':\n",
    "            display(queue)\n",
    "        else:\n",
    "            break\n",
    "\n",
    "\n",
    "Queue(queue)\n",
    "\n",
    "\n",
    "\n",
    "    "
   ]
  },
  {
   "cell_type": "markdown",
   "metadata": {},
   "source": [
    "## Queue using linked List"
   ]
  },
  {
   "cell_type": "code",
   "execution_count": 7,
   "metadata": {},
   "outputs": [
    {
     "name": "stdout",
     "output_type": "stream",
     "text": [
      "56-->90-->None 90\n"
     ]
    }
   ],
   "source": [
    "class Node:\n",
    "    def __init__(self,data):\n",
    "        self.data = data\n",
    "        self.next = None\n",
    "    \n",
    "\n",
    "class Queue:\n",
    "\n",
    "    def __init__(self):\n",
    "        self.front = None\n",
    "        self.rear = None\n",
    "    \n",
    "    def enqueue(self,data):\n",
    "        new_node = Node(data)\n",
    "        if self.front is None:\n",
    "            self.front = new_node\n",
    "            self.rear = new_node\n",
    "            return\n",
    "        temp = self.rear\n",
    "        while temp.next:\n",
    "            temp = temp.next\n",
    "        temp.next = new_node\n",
    "\n",
    "        self.rear = new_node\n",
    "\n",
    "    def dequeue(self):\n",
    "        if self.front == None:\n",
    "            print('Queue is None..')\n",
    "            return\n",
    "        temp = self.front \n",
    "        self.front = temp.next \n",
    "        temp.next = None\n",
    "\n",
    "    def display(self):\n",
    "        if self.front == None:\n",
    "            print('Queue is Empty..')\n",
    "            return\n",
    "        temp = self.front\n",
    "        while temp:\n",
    "            print(temp.data,end=\"-->\")\n",
    "            temp = temp.next \n",
    "        print('None',self.rear.data)\n",
    "\n",
    "q = Queue()\n",
    "q.enqueue(12)\n",
    "q.enqueue(56)\n",
    "q.enqueue(90)\n",
    "q.dequeue()\n",
    "q.display()\n"
   ]
  }
 ],
 "metadata": {
  "kernelspec": {
   "display_name": "dsa",
   "language": "python",
   "name": "python3"
  },
  "language_info": {
   "codemirror_mode": {
    "name": "ipython",
    "version": 3
   },
   "file_extension": ".py",
   "mimetype": "text/x-python",
   "name": "python",
   "nbconvert_exporter": "python",
   "pygments_lexer": "ipython3",
   "version": "3.12.4"
  }
 },
 "nbformat": 4,
 "nbformat_minor": 2
}
