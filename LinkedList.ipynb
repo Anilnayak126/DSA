{
 "cells": [
  {
   "cell_type": "markdown",
   "metadata": {},
   "source": [
    "# Linked List\n"
   ]
  },
  {
   "cell_type": "code",
   "execution_count": null,
   "metadata": {},
   "outputs": [],
   "source": [
    "'''class List:\n",
    "\n",
    "    def indexOfval(self,list,val):\n",
    "        count = 0\n",
    "        \n",
    "        for i in len(list):\n",
    "            if list[i] == val:\n",
    "                break\n",
    "            else:\n",
    "                count  += 1\n",
    "        return count - 1\n",
    "\n",
    "\n",
    "    def remove(self,list,val):\n",
    "\n",
    "       for i in len(list):\n",
    "        if list[i] == val:\n",
    "           list.remove(val)\n",
    "\n",
    "        return list'''"
   ]
  },
  {
   "cell_type": "markdown",
   "metadata": {},
   "source": []
  },
  {
   "cell_type": "code",
   "execution_count": 3,
   "metadata": {},
   "outputs": [
    {
     "name": "stdout",
     "output_type": "stream",
     "text": [
      "there is no value  like 0 in the list \n"
     ]
    }
   ],
   "source": [
    "def Remove_from_List(list,val) -> list:\n",
    "\n",
    "    if val in list:\n",
    "        \n",
    "        list.remove(val)\n",
    "        return list\n",
    "    else:\n",
    "        return f'there is no value  like {val} in the list '\n",
    "\n",
    "\n",
    "\n",
    "print(Remove_from_List([12,3434,45,232],0))\n",
    "\n",
    "\n",
    "\n",
    "\n",
    "\n",
    "\n",
    "\n",
    "\n",
    "\n"
   ]
  },
  {
   "cell_type": "code",
   "execution_count": null,
   "metadata": {},
   "outputs": [
    {
     "ename": "",
     "evalue": "",
     "output_type": "error",
     "traceback": [
      "\u001b[1;31mThe Kernel crashed while executing code in the current cell or a previous cell. \n",
      "\u001b[1;31mPlease review the code in the cell(s) to identify a possible cause of the failure. \n",
      "\u001b[1;31mClick <a href='https://aka.ms/vscodeJupyterKernelCrash'>here</a> for more info. \n",
      "\u001b[1;31mView Jupyter <a href='command:jupyter.viewOutput'>log</a> for further details."
     ]
    }
   ],
   "source": []
  }
 ],
 "metadata": {
  "kernelspec": {
   "display_name": "dsa",
   "language": "python",
   "name": "python3"
  },
  "language_info": {
   "codemirror_mode": {
    "name": "ipython",
    "version": 3
   },
   "file_extension": ".py",
   "mimetype": "text/x-python",
   "name": "python",
   "nbconvert_exporter": "python",
   "pygments_lexer": "ipython3",
   "version": "3.12.4"
  }
 },
 "nbformat": 4,
 "nbformat_minor": 2
}
