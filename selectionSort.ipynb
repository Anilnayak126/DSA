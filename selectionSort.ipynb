{
 "cells": [
  {
   "cell_type": "markdown",
   "metadata": {},
   "source": [
    "**Selection Sort**, one of the simplest and most intuitive sorting algorithms. It’s a comparison-based algorithm that works by repeatedly selecting the smallest (or largest) element from the unsorted portion of the list and swapping it with the first unsorted element.\n",
    "\n"
   ]
  },
  {
   "cell_type": "code",
   "execution_count": 2,
   "metadata": {},
   "outputs": [
    {
     "name": "stdout",
     "output_type": "stream",
     "text": [
      "[1, 2, 12, 34]\n"
     ]
    }
   ],
   "source": [
    "def selection_sort(arr):\n",
    "    size =  len(arr) - 1\n",
    "\n",
    "    for i in range(size):\n",
    "        min_index = i\n",
    "        for j in range(i + 1,size):\n",
    "            if arr[j] < arr[min_index]:\n",
    "                min_index = j\n",
    "            \n",
    "        arr[i],arr[min_index] = arr[min_index],arr[i]\n",
    "\n",
    "    return arr \n",
    "\n",
    "arr = [12,1,2,34]\n",
    "\n",
    "print(selection_sort(arr))\n",
    "\n"
   ]
  },
  {
   "cell_type": "markdown",
   "metadata": {},
   "source": [
    " #### Basic Selection Sort Implementation\n",
    " - descending order"
   ]
  },
  {
   "cell_type": "code",
   "execution_count": 6,
   "metadata": {},
   "outputs": [
    {
     "name": "stdout",
     "output_type": "stream",
     "text": [
      "[122, 12, 4, 3, 89]\n"
     ]
    }
   ],
   "source": [
    "def bubble_sort(arr):\n",
    "    size = len(arr) - 1\n",
    "\n",
    "    for i in range(size):\n",
    "        max_index = i\n",
    "        for j in range(i + 1, size):\n",
    "            if arr[j] > arr[max_index]:\n",
    "                max_index = j \n",
    "        \n",
    "        arr[i],arr[max_index] = arr[max_index],arr[i]\n",
    "\n",
    "    return arr\n",
    "\n",
    "arr = [12,3,4,122,89]\n",
    "\n",
    "print(bubble_sort(arr))"
   ]
  },
  {
   "cell_type": "markdown",
   "metadata": {},
   "source": [
    "#### Sort an Array of Strings\n",
    "###### Problem:\n",
    "###### Modify selection sort to sort an array of strings in lexicographical order.\n",
    "\n",
    "- Input: [\"banana\", \"apple\", \"cherry\", \"grape\"]\n",
    "\n",
    "- Output: [\"apple\", \"banana\", \"cherry\", \"grape\"]"
   ]
  },
  {
   "cell_type": "code",
   "execution_count": 7,
   "metadata": {},
   "outputs": [
    {
     "name": "stdout",
     "output_type": "stream",
     "text": [
      "['apple', 'banana', 'cherry', 'grape']\n"
     ]
    }
   ],
   "source": [
    "def selection_sort(arr):\n",
    "    size = len(arr) - 1\n",
    "\n",
    "    for  i in range(size):\n",
    "        min_index = i\n",
    "        for  j in range(i + 1,size):\n",
    "\n",
    "            if arr[j] < arr[min_index]:\n",
    "                min_index = j\n",
    "\n",
    "        arr[min_index],arr[i] = arr[i],arr[min_index]\n",
    "\n",
    "    return arr\n",
    "\n",
    "arr = [\"banana\", \"apple\", \"cherry\", \"grape\"]\n",
    "\n",
    "print(selection_sort(arr))"
   ]
  },
  {
   "cell_type": "markdown",
   "metadata": {},
   "source": [
    "### Find the Kth Smallest Element\n",
    "##### Problem:\n",
    "##### Find the Kth smallest element using selection sort logic.\n",
    "\n",
    "- Input: arr = [7, 10, 4, 3, 20, 15], k = 3\n",
    "\n",
    "- Output: 7\n",
    "\n",
    "- Hint: Stop the sorting process after k passes."
   ]
  },
  {
   "cell_type": "code",
   "execution_count": 24,
   "metadata": {},
   "outputs": [
    {
     "name": "stdout",
     "output_type": "stream",
     "text": [
      "7\n"
     ]
    }
   ],
   "source": [
    "def selection_sort(arr,k):\n",
    "    size = len(arr)\n",
    "    swap = 0\n",
    "\n",
    "    for i in range(k):\n",
    "        min_index = i \n",
    "        for j in range(i + 1,size):\n",
    "            if arr[j] < arr[min_index]:\n",
    "                min_index = j\n",
    "\n",
    "                # swap += 1\n",
    "        # if swap > (k + 1):\n",
    "        #     break\n",
    "\n",
    "        arr[i],arr[min_index] = arr[min_index],arr[i]\n",
    "\n",
    "    return arr[k -1]\n",
    "\n",
    "\n",
    "arr = [7, 10, 4, 3, 20, 15]\n",
    "k = 3\n",
    "\n",
    "print(selection_sort(arr,k))\n",
    "\n",
    "\n",
    "\n",
    "        \n",
    "            "
   ]
  },
  {
   "cell_type": "markdown",
   "metadata": {},
   "source": [
    "#### Count the Number of Swaps in Selection Sort\n",
    "###### Problem:\n",
    "###### Modify the selection sort to count the number of swaps required to sort the array.\n",
    "\n",
    "- Input: arr = [5, 3, 1, 2, 4]\n",
    "\n",
    "- Output: Number of swaps: 4"
   ]
  },
  {
   "cell_type": "code",
   "execution_count": null,
   "metadata": {},
   "outputs": [
    {
     "name": "stdout",
     "output_type": "stream",
     "text": [
      "4\n"
     ]
    }
   ],
   "source": [
    "def swap_count(arr):\n",
    "    size = len(arr) \n",
    "    swap = 0\n",
    "\n",
    "    for i in range(size - 1 ):\n",
    "        min_index = i\n",
    "        for j in range(i + 1 , size):\n",
    "            if arr[j] < arr[min_index]: \n",
    "                min_index = j\n",
    "                \n",
    "        if min_index != i:    \n",
    "            arr[i],arr[min_index]= arr[min_index],arr[i]\n",
    "            swap += 1 \n",
    "    return swap\n",
    "\n",
    "arr = [5, 3, 1, 2, 4]\n",
    "print(swap_count(arr))\n",
    "             "
   ]
  }
 ],
 "metadata": {
  "kernelspec": {
   "display_name": "dsa",
   "language": "python",
   "name": "python3"
  },
  "language_info": {
   "codemirror_mode": {
    "name": "ipython",
    "version": 3
   },
   "file_extension": ".py",
   "mimetype": "text/x-python",
   "name": "python",
   "nbconvert_exporter": "python",
   "pygments_lexer": "ipython3",
   "version": "3.12.4"
  }
 },
 "nbformat": 4,
 "nbformat_minor": 2
}
