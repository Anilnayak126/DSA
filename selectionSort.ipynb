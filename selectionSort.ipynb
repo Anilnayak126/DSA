{
 "cells": [
  {
   "cell_type": "markdown",
   "metadata": {},
   "source": [
    "**Selection Sort**, one of the simplest and most intuitive sorting algorithms. It’s a comparison-based algorithm that works by repeatedly selecting the smallest (or largest) element from the unsorted portion of the list and swapping it with the first unsorted element.\n",
    "\n"
   ]
  },
  {
   "cell_type": "code",
   "execution_count": 2,
   "metadata": {},
   "outputs": [
    {
     "name": "stdout",
     "output_type": "stream",
     "text": [
      "[1, 2, 12, 34]\n"
     ]
    }
   ],
   "source": [
    "def selection_sort(arr):\n",
    "    size =  len(arr) - 1\n",
    "\n",
    "    for i in range(size):\n",
    "        min_index = i\n",
    "        for j in range(i + 1,size):\n",
    "            if arr[j] < arr[min_index]:\n",
    "                min_index = j\n",
    "            \n",
    "        arr[i],arr[min_index] = arr[min_index],arr[i]\n",
    "\n",
    "    return arr \n",
    "\n",
    "arr = [12,1,2,34]\n",
    "\n",
    "print(selection_sort(arr))\n",
    "\n"
   ]
  },
  {
   "cell_type": "markdown",
   "metadata": {},
   "source": [
    " #### Basic Selection Sort Implementation\n",
    " - descending order"
   ]
  },
  {
   "cell_type": "code",
   "execution_count": 6,
   "metadata": {},
   "outputs": [
    {
     "name": "stdout",
     "output_type": "stream",
     "text": [
      "[122, 12, 4, 3, 89]\n"
     ]
    }
   ],
   "source": [
    "def bubble_sort(arr):\n",
    "    size = len(arr) - 1\n",
    "\n",
    "    for i in range(size):\n",
    "        max_index = i\n",
    "        for j in range(i + 1, size):\n",
    "            if arr[j] > arr[max_index]:\n",
    "                max_index = j \n",
    "        \n",
    "        arr[i],arr[max_index] = arr[max_index],arr[i]\n",
    "\n",
    "    return arr\n",
    "\n",
    "arr = [12,3,4,122,89]\n",
    "\n",
    "print(bubble_sort(arr))"
   ]
  },
  {
   "cell_type": "markdown",
   "metadata": {},
   "source": [
    "#### Sort an Array of Strings\n",
    "###### Problem:\n",
    "###### Modify selection sort to sort an array of strings in lexicographical order.\n",
    "\n",
    "- Input: [\"banana\", \"apple\", \"cherry\", \"grape\"]\n",
    "\n",
    "- Output: [\"apple\", \"banana\", \"cherry\", \"grape\"]"
   ]
  },
  {
   "cell_type": "code",
   "execution_count": 7,
   "metadata": {},
   "outputs": [
    {
     "name": "stdout",
     "output_type": "stream",
     "text": [
      "['apple', 'banana', 'cherry', 'grape']\n"
     ]
    }
   ],
   "source": [
    "def selection_sort(arr):\n",
    "    size = len(arr) - 1\n",
    "\n",
    "    for  i in range(size):\n",
    "        min_index = i\n",
    "        for  j in range(i + 1,size):\n",
    "\n",
    "            if arr[j] < arr[min_index]:\n",
    "                min_index = j\n",
    "\n",
    "        arr[min_index],arr[i] = arr[i],arr[min_index]\n",
    "\n",
    "    return arr\n",
    "\n",
    "arr = [\"banana\", \"apple\", \"cherry\", \"grape\"]\n",
    "\n",
    "print(selection_sort(arr))"
   ]
  },
  {
   "cell_type": "markdown",
   "metadata": {},
   "source": [
    "### Find the Kth Smallest Element\n",
    "##### Problem:\n",
    "##### Find the Kth smallest element using selection sort logic.\n",
    "\n",
    "- Input: arr = [7, 10, 4, 3, 20, 15], k = 3\n",
    "\n",
    "- Output: 7\n",
    "\n",
    "- Hint: Stop the sorting process after k passes."
   ]
  },
  {
   "cell_type": "code",
   "execution_count": null,
   "metadata": {},
   "outputs": [
    {
     "name": "stdout",
     "output_type": "stream",
     "text": [
      "7\n"
     ]
    }
   ],
   "source": [
    "def selection_sort(arr,k):\n",
    "    size = len(arr)\n",
    "    swap = 0\n",
    "\n",
    "    for i in range(k):\n",
    "        min_index = i \n",
    "        for j in range(i + 1,size):\n",
    "            if arr[j] < arr[min_index]:\n",
    "                min_index = j\n",
    "\n",
    "                # swap += 1\n",
    "        # if swap > (k + 1):\n",
    "        #     break\n",
    "\n",
    "        arr[i],arr[min_index] = arr[min_index],arr[i]\n",
    "\n",
    "    return arr[k -1]\n",
    "\n",
    "\n",
    "arr = [7, 10, 4, 3, 20, 15]\n",
    "k = 3\n",
    "\n",
    "print(selection_sort(arr,k))\n",
    "\n",
    "\n",
    "\n",
    "        \n",
    "            "
   ]
  },
  {
   "cell_type": "markdown",
   "metadata": {},
   "source": [
    "#### Count the Number of Swaps in Selection Sort\n",
    "###### Problem:\n",
    "###### Modify the selection sort to count the number of swaps required to sort the array.\n",
    "\n",
    "- Input: arr = [5, 3, 1, 2, 4]\n",
    "\n",
    "- Output: Number of swaps: 4"
   ]
  },
  {
   "cell_type": "code",
   "execution_count": null,
   "metadata": {},
   "outputs": [
    {
     "name": "stdout",
     "output_type": "stream",
     "text": [
      "4\n"
     ]
    }
   ],
   "source": [
    "def swap_count(arr):\n",
    "    size = len(arr) \n",
    "    swap = 0\n",
    "\n",
    "    for i in range(size - 1 ):\n",
    "        min_index = i\n",
    "        for j in range(i + 1 , size):\n",
    "            if arr[j] < arr[min_index]: \n",
    "                min_index = j\n",
    "                \n",
    "        if min_index != i:    \n",
    "            arr[i],arr[min_index]= arr[min_index],arr[i]\n",
    "            swap += 1 \n",
    "    return swap\n",
    "\n",
    "arr = [5, 3, 1, 2, 4]\n",
    "print(swap_count(arr))\n",
    "             "
   ]
  },
  {
   "cell_type": "markdown",
   "metadata": {},
   "source": [
    "#### Sort an Array with Duplicate Elements\n",
    "##### Problem:\n",
    "##### Modify selection sort to correctly handle duplicate elements while maintaining order.\n",
    "\n",
    "- Input: arr = [4, 2, 4, 1, 3, 2]\n",
    "\n",
    "- Output: [1, 2, 2, 3, 4, 4]"
   ]
  },
  {
   "cell_type": "code",
   "execution_count": 30,
   "metadata": {},
   "outputs": [
    {
     "name": "stdout",
     "output_type": "stream",
     "text": [
      "[1, 2, 2, 3, 4, 4]\n"
     ]
    }
   ],
   "source": [
    "def sort_with_duplicate(arr):\n",
    "    size = len(arr)\n",
    "\n",
    "    for i in range(size - 1):\n",
    "        min_value = i\n",
    "        for j in range(i + 1, size):\n",
    "            if arr[j] < arr[min_value]:\n",
    "                min_value = j\n",
    "            \n",
    "        arr[min_value],arr[i] = arr[i],arr[min_value]\n",
    "\n",
    "    return arr \n",
    "arr = [4, 2, 4, 1, 3, 2]\n",
    "\n",
    "print(sort_with_duplicate(arr))\n"
   ]
  },
  {
   "cell_type": "markdown",
   "metadata": {},
   "source": [
    "### Sort a 2D Array Row-wise Using Selection Sort\n",
    "##### Problem:\n",
    "##### Apply selection sort to sort each row of a 2D matrix.\n",
    "\n",
    "- Input:\n",
    "arr = [\n",
    "    [3, 2, 1],\n",
    "    [9, 8, 4],\n",
    "    [6, 5, 7]\n",
    "]\n",
    "- Output:\n",
    "[\n",
    "    [1, 2, 3],\n",
    "    [4, 8, 9],\n",
    "    [5, 6, 7]\n",
    "]"
   ]
  },
  {
   "cell_type": "code",
   "execution_count": 32,
   "metadata": {},
   "outputs": [
    {
     "name": "stdout",
     "output_type": "stream",
     "text": [
      "[[1, 2, 3], [4, 8, 9], [5, 6, 7]]\n"
     ]
    }
   ],
   "source": [
    "def sort_2D_matrix(arrays):\n",
    "    def selection_sort(arr):\n",
    "        size = len(arr)\n",
    "\n",
    "        for i in range(size - 1):\n",
    "            min_value = i\n",
    "            for j in range(i + 1,size):\n",
    "                if arr[j] < arr[min_value]:\n",
    "                    min_value = j\n",
    "            arr[i],arr[min_value] = arr[min_value],arr[i]\n",
    "        \n",
    "    \n",
    "    for arr in arrays: \n",
    "        selection_sort(arr)\n",
    "    \n",
    "    return arrays\n",
    "\n",
    "\n",
    "arr = [\n",
    "    [3, 2, 1],\n",
    "    [9, 8, 4],\n",
    "    [6, 5, 7]\n",
    "]\n",
    "\n",
    "print(sort_2D_matrix(arr))\n",
    "    "
   ]
  },
  {
   "cell_type": "markdown",
   "metadata": {},
   "source": [
    "### Check if Array is Sorted After K Swaps\n",
    "### Problem:\n",
    "###### Check whether an array is sorted after performing at most k swaps using selection sort.\n",
    "\n",
    "- Input: arr = [4, 3, 1, 2, 5], k = 2\n",
    "\n",
    "- Output: False"
   ]
  },
  {
   "cell_type": "code",
   "execution_count": 43,
   "metadata": {},
   "outputs": [
    {
     "name": "stdout",
     "output_type": "stream",
     "text": [
      "False\n"
     ]
    }
   ],
   "source": [
    "def check_sorted(arr,k):\n",
    "\n",
    "    def is_sort(arr):\n",
    "        for i in range(len(arr) -1):\n",
    "            if arr[i] > arr[i + 1]:\n",
    "                return False\n",
    "        return True\n",
    "\n",
    "    \n",
    "    for i in range(k):\n",
    "        min_index = i\n",
    "        for j in range(i + 1,len(arr)):\n",
    "            if arr[j] < arr[min_index]:\n",
    "                min_index = j\n",
    "            \n",
    "        if min_index != i:\n",
    "             arr[min_index],arr[i] = arr[i],arr[min_index]\n",
    "\n",
    "    return  is_sort(arr)\n",
    "\n",
    "\n",
    "k = 2\n",
    "arr = [4, 3, 1, 2, 5]\n",
    "\n",
    "print(check_sorted(arr,k))\n",
    "\n",
    "\n",
    "\n",
    "\n",
    "                "
   ]
  },
  {
   "cell_type": "markdown",
   "metadata": {},
   "source": [
    "### Find the Median Using Selection Sort\n",
    "### Problem:\n",
    "##### Use selection sort to find the median of an array.\n",
    "\n",
    "- Input: arr = [7, 2, 5, 10, 1]\n",
    "\n",
    "- Output: 5"
   ]
  },
  {
   "cell_type": "code",
   "execution_count": null,
   "metadata": {},
   "outputs": [
    {
     "name": "stdout",
     "output_type": "stream",
     "text": [
      "5\n"
     ]
    }
   ],
   "source": [
    "def find_median(arr):\n",
    "    size = len(arr) \n",
    "\n",
    "    for i in range(size-1):\n",
    "        min_index = i\n",
    "        for j in range(i + 1,size):\n",
    "            if arr[j] < arr[min_index]:\n",
    "                min_index = j\n",
    "\n",
    "        arr[i],arr[min_index] = arr[min_index],arr[i]\n",
    "\n",
    "    mid = size // 2\n",
    "\n",
    "    if size % 2 == 1: \n",
    "        return arr[mid]\n",
    "    return (arr[mid - 1] + arr[mid]) / 2\n",
    "\n",
    "    # return arr[mid]\n",
    "\n",
    "\n",
    "arr = [7, 2, 5, 10, 1]\n",
    "# arr = [7, 2, 5, 10]\n",
    "\n",
    "print(find_median(arr))"
   ]
  },
  {
   "cell_type": "markdown",
   "metadata": {},
   "source": [
    "#### Sort Players by Rank (Stable Selection Sort)\n",
    "\n",
    "#### Given a list of players with ranks ([(\"Alice\", 3), (\"Bob\", 3), (\"Charlie\", 1)]), sort them stably.\n",
    "\n",
    "- Output: [(\"Charlie\", 1), (\"Alice\", 3), (\"Bob\", 3)]."
   ]
  },
  {
   "cell_type": "code",
   "execution_count": null,
   "metadata": {},
   "outputs": [
    {
     "name": "stdout",
     "output_type": "stream",
     "text": [
      "[('Charlie', 1), ('Bob', 3), ('Alice', 3)]\n"
     ]
    }
   ],
   "source": [
    "def sort_players_by_rank(players : list) -> list:\n",
    "\n",
    "    size = len(players)\n",
    "\n",
    "    for i in range(size - 1):\n",
    "        min_index =  i\n",
    "\n",
    "        for j in range(i + 1,size):\n",
    "            \n",
    "            if players[j][1] < players[min_index][1]:\n",
    "                min_index = j\n",
    "                \n",
    "        players[i],players[min_index] = players[min_index],players[i] \n",
    "\n",
    "    return players \n",
    "\n",
    "arr = [(\"Alice\", 3), (\"Bob\", 3), (\"Charlie\", 1)]\n",
    "\n",
    "print(sort_players_by_rank(arr))\n",
    "\n",
    "\n"
   ]
  }
 ],
 "metadata": {
  "kernelspec": {
   "display_name": "dsa",
   "language": "python",
   "name": "python3"
  },
  "language_info": {
   "codemirror_mode": {
    "name": "ipython",
    "version": 3
   },
   "file_extension": ".py",
   "mimetype": "text/x-python",
   "name": "python",
   "nbconvert_exporter": "python",
   "pygments_lexer": "ipython3",
   "version": "3.12.4"
  }
 },
 "nbformat": 4,
 "nbformat_minor": 2
}
