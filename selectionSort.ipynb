{
 "cells": [
  {
   "cell_type": "markdown",
   "metadata": {},
   "source": [
    "**Selection Sort**, one of the simplest and most intuitive sorting algorithms. It’s a comparison-based algorithm that works by repeatedly selecting the smallest (or largest) element from the unsorted portion of the list and swapping it with the first unsorted element.\n",
    "\n"
   ]
  },
  {
   "cell_type": "code",
   "execution_count": 7,
   "metadata": {},
   "outputs": [
    {
     "name": "stdout",
     "output_type": "stream",
     "text": [
      "([11, 12, 22, 25, 64], 5)\n"
     ]
    }
   ],
   "source": [
    "def selection_sort(arr):\n",
    "    n = len(arr)\n",
    "    swap = 0\n",
    "\n",
    "    for i in range(n):\n",
    "        mid_index = i\n",
    "        for j in range(i + 1,n):\n",
    "            if arr[j] < arr[mid_index]:\n",
    "                mid_index = j\n",
    "                swap += 1\n",
    "        arr[i],arr[mid_index] = arr[mid_index],arr[i]\n",
    "\n",
    "    return arr, swap\n",
    "\n",
    "arr = [64, 25, 12, 22, 11]\n",
    "res = selection_sort(arr)\n",
    "print(res)"
   ]
  }
 ],
 "metadata": {
  "kernelspec": {
   "display_name": "dsa",
   "language": "python",
   "name": "python3"
  },
  "language_info": {
   "codemirror_mode": {
    "name": "ipython",
    "version": 3
   },
   "file_extension": ".py",
   "mimetype": "text/x-python",
   "name": "python",
   "nbconvert_exporter": "python",
   "pygments_lexer": "ipython3",
   "version": "3.12.4"
  }
 },
 "nbformat": 4,
 "nbformat_minor": 2
}
