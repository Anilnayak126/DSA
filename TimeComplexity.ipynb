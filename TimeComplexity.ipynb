{
 "cells": [
  {
   "cell_type": "markdown",
   "metadata": {},
   "source": [
    "# O(1): Constant Time\n",
    "\n",
    "Desc : The algorithm takes the same amount of time to execute, regardless of the input size.\n",
    "\n",
    "Ex :  Accessing an element in an array by index."
   ]
  },
  {
   "cell_type": "code",
   "execution_count": null,
   "metadata": {},
   "outputs": [],
   "source": [
    "arr = [1,2,3]\n",
    "\n",
    "def get_first_element(index,arr):\n",
    "      return arr[index]"
   ]
  },
  {
   "cell_type": "markdown",
   "metadata": {},
   "source": [
    "# O(log N): Logarithmic Time\n",
    "\n",
    "Description: The algorithm's runtime grows logarithmically with the input size. Common in divide-and-conquer algorithms.\n",
    "\n",
    "Example: Binary search."
   ]
  },
  {
   "cell_type": "code",
   "execution_count": 10,
   "metadata": {},
   "outputs": [
    {
     "name": "stdout",
     "output_type": "stream",
     "text": [
      "element Found!!!\n",
      "0.0\n"
     ]
    }
   ],
   "source": [
    "import datetime\n",
    "ele = [12,23,45,56,67]\n",
    "\n",
    "start_time = datetime.datetime.now()\n",
    "\n",
    "def binary_search(target,arr):\n",
    "\n",
    "    arr.sort()\n",
    "    \n",
    "    low,high = 0,len(arr) -1\n",
    "    \n",
    "    while low <= high:\n",
    "        mid = (low  + high) // 2\n",
    "        arr_mid = arr[mid]\n",
    "\n",
    "        if arr_mid == target:\n",
    "            \n",
    "            return \"element Found!!!\"\n",
    "        elif arr_mid < target:\n",
    "            low =  mid + 1\n",
    "        elif arr_mid > target:\n",
    "            high = mid -1 \n",
    "    return \"Notfound\"\n",
    "\n",
    "end_time = datetime.datetime.now()\n",
    "\n",
    "print(binary_search(23,ele))\n",
    "print((end_time - start_time).total_seconds())\n"
   ]
  },
  {
   "cell_type": "markdown",
   "metadata": {},
   "source": [
    "### Explanation:\n",
    "\n",
    "- The search space is halved in each iteration.\n",
    "\n",
    "- Common in divide-and-conquer algorithms like binary search."
   ]
  },
  {
   "cell_type": "markdown",
   "metadata": {},
   "source": [
    "## 3. O(n) - Linear Time\n",
    "- The algorithm's runtime grows linearly with the input size.\n",
    "\n",
    "- Example: Linear Search"
   ]
  },
  {
   "cell_type": "code",
   "execution_count": 7,
   "metadata": {},
   "outputs": [
    {
     "name": "stdout",
     "output_type": "stream",
     "text": [
      "found\n",
      "0.001298\n"
     ]
    }
   ],
   "source": [
    "import datetime\n",
    "arr = [12,34,45,45,56,112]\n",
    "start_time = datetime.datetime.now()\n",
    "\n",
    "def Linear(arr,target):\n",
    "    for i in range(len(arr)):\n",
    "        if arr[i] == target:\n",
    "            print(\"found\")\n",
    "            return \n",
    "        \n",
    "    print(\"Notfound\")\n",
    "end_time = datetime.datetime.now()\n",
    "\n",
    "\n",
    "Linear(arr,34)\n",
    "\n",
    "print((end_time-start_time).total_seconds())\n",
    "\n",
    "\n"
   ]
  },
  {
   "cell_type": "markdown",
   "metadata": {},
   "source": [
    "### Explanation:\n",
    "\n",
    "- The algorithm iterates through each element once.\n",
    "\n",
    "- Time taken is proportional to the input size n."
   ]
  },
  {
   "cell_type": "markdown",
   "metadata": {},
   "source": [
    "# 4. O(n^2) - Quadratic Time\n",
    "\n",
    "- The algorithm's runtime grows quadratically with the input size.\n",
    "\n"
   ]
  },
  {
   "cell_type": "code",
   "execution_count": 37,
   "metadata": {},
   "outputs": [
    {
     "name": "stdout",
     "output_type": "stream",
     "text": [
      "[12, 23, 45, 56, 67, 101]\n",
      "0.0\n"
     ]
    }
   ],
   "source": [
    "import datetime\n",
    "\n",
    "start_time = datetime.datetime.now()\n",
    "\n",
    "def bubble_sort(arr):\n",
    "    n = len(arr)\n",
    "    for i in range(n):\n",
    "        for j in range(0, n - i - 1):\n",
    "            if arr[j] > arr[j + 1]:\n",
    "                arr[j] , arr[j + 1] = arr[j + 1], arr[j]\n",
    "    return arr\n",
    "\n",
    "\n",
    "ele = [12,101,23,45,56,67]\n",
    "print(bubble_sort(ele))\n",
    "\n",
    "end_time = datetime.datetime.now()\n",
    "\n",
    "print((end_time-start_time).total_seconds())\n",
    "\n",
    "\n"
   ]
  },
  {
   "cell_type": "markdown",
   "metadata": {},
   "source": [
    "## Explanation:\n",
    "\n",
    "- Nested loops result in n * n iterations, making it inefficient for large datasets."
   ]
  },
  {
   "cell_type": "markdown",
   "metadata": {},
   "source": [
    "# 5. O(n log n) - Linearithmic Time"
   ]
  },
  {
   "cell_type": "code",
   "execution_count": 39,
   "metadata": {},
   "outputs": [
    {
     "name": "stdout",
     "output_type": "stream",
     "text": [
      "[12, 45, 56, 112, 341005]\n",
      "0.000999\n"
     ]
    }
   ],
   "source": [
    "import datetime\n",
    "\n",
    "start_time = datetime.datetime.now()\n",
    "\n",
    "def merge_sort(arr):\n",
    "    if len(arr) > 1:\n",
    "        mid  = len(arr) // 2\n",
    "        left_half = arr[:mid]\n",
    "        right_half = arr[mid:]\n",
    "\n",
    "        merge_sort(left_half)\n",
    "        merge_sort(right_half)\n",
    "\n",
    "        i = j = k  = 0  #these are pointers for left half and arr\n",
    "        while i < len(left_half) and j < len(right_half):\n",
    "            if left_half[i] < right_half[j]:\n",
    "                arr[k] = left_half[i]\n",
    "                i += 1\n",
    "            else:\n",
    "                arr[k] = right_half[j]\n",
    "                j += 1\n",
    "            k += 1\n",
    "        # copy remaining part from left half \"if any\"\n",
    "        while i <  len(left_half):\n",
    "            arr[k] = left_half[i]\n",
    "            i += 1\n",
    "            k += 1\n",
    "        # copy remaining part from right half \"if any\"\n",
    "        while j < len(right_half):\n",
    "            arr[k] = right_half[j]\n",
    "            j += 1\n",
    "            k+=1\n",
    "    return arr\n",
    "ele = [12, 341005, 45, 56, 112]\n",
    "print(merge_sort(ele))\n",
    "\n",
    "end_time = datetime.datetime.now()\n",
    "\n",
    "print((end_time - start_time).total_seconds())\n",
    "\n",
    "\n",
    "\n",
    "\n"
   ]
  },
  {
   "cell_type": "markdown",
   "metadata": {},
   "source": [
    "## Explanation:\n",
    "\n",
    "- Merge Sort divides the array into smaller parts and merges them in sorted order, resulting in O(n log n) complexity."
   ]
  },
  {
   "cell_type": "markdown",
   "metadata": {},
   "source": [
    "#  O(n^3) - Cubic Time"
   ]
  },
  {
   "cell_type": "code",
   "execution_count": 2,
   "metadata": {},
   "outputs": [
    {
     "name": "stdout",
     "output_type": "stream",
     "text": [
      "[[30, 24, 18], [84, 69, 54], [138, 114, 90]]\n",
      "0.002365\n"
     ]
    }
   ],
   "source": [
    "import datetime\n",
    "\n",
    "\n",
    "start_time = datetime.datetime.now()\n",
    "\n",
    "def matrix_multiply(A:[int],B:[int]) -> list:\n",
    "    n = len(A) \n",
    "    result = [[0 for _ in range(n)] for _ in range(n)]\n",
    "\n",
    "    for i in range(n):\n",
    "        for j in range(n):\n",
    "            for k in range(n):\n",
    "                result[i][j] += A[i][k] * B[k][j]\n",
    "\n",
    "    return result\n",
    "\n",
    "A = [\n",
    "    [1, 2, 3],\n",
    "    [4, 5, 6],\n",
    "    [7, 8, 9]\n",
    "]\n",
    "\n",
    "B = [\n",
    "    [9, 8, 7],\n",
    "    [6, 5, 4],\n",
    "    [3, 2, 1]\n",
    "]\n",
    "\n",
    "\n",
    "print(matrix_multiply(A,B))\n",
    "end_time = datetime.datetime.now()\n",
    "print((end_time - start_time).total_seconds())\n",
    "\n"
   ]
  },
  {
   "cell_type": "markdown",
   "metadata": {},
   "source": [
    "\n",
    "\n",
    "## Eplanation:\n",
    "\n",
    "- three nested loops result in n * n * n iterations, making it very slow for large matrices."
   ]
  },
  {
   "cell_type": "markdown",
   "metadata": {},
   "source": [
    " # 7. O(2^n) - Exponential Time"
   ]
  },
  {
   "cell_type": "code",
   "execution_count": 6,
   "metadata": {},
   "outputs": [
    {
     "name": "stdout",
     "output_type": "stream",
     "text": [
      "2\n",
      "0.002001\n"
     ]
    }
   ],
   "source": [
    "import  datetime\n",
    "\n",
    "start_time = datetime.datetime.now()\n",
    "def fibonacci(n):\n",
    "    if n <= 1:\n",
    "        return n\n",
    "    return fibonacci(n - 1) + fibonacci(n -2)\n",
    "\n",
    "print(fibonacci(3))\n",
    "\n",
    "end_time = datetime.datetime.now()\n",
    "\n",
    "print((end_time - start_time).total_seconds())"
   ]
  },
  {
   "cell_type": "markdown",
   "metadata": {},
   "source": [
    "## Explanation:\n",
    "\n",
    "- The number of recursive calls grows exponentially with n, making it impractical for large values of n."
   ]
  },
  {
   "cell_type": "markdown",
   "metadata": {},
   "source": [
    "# 8. O(n!) - Factorial Time"
   ]
  },
  {
   "cell_type": "code",
   "execution_count": 7,
   "metadata": {},
   "outputs": [
    {
     "name": "stdout",
     "output_type": "stream",
     "text": [
      "[(1, 2, 3), (1, 3, 2), (2, 1, 3), (2, 3, 1), (3, 1, 2), (3, 2, 1)]\n"
     ]
    }
   ],
   "source": [
    "import itertools\n",
    "\n",
    "def generate_permuations(arr):\n",
    "    return list(itertools.permutations(arr))\n",
    "\n",
    "\n",
    "ele = [1,2,3]\n",
    "\n",
    "print(generate_permuations(ele))"
   ]
  },
  {
   "cell_type": "markdown",
   "metadata": {},
   "source": [
    "# Explanation:\n",
    "\n",
    "- Generating all permutations of a set results in n! possibilities, making it extremely slow for large inputs."
   ]
  },
  {
   "cell_type": "markdown",
   "metadata": {},
   "source": [
    "# ----------------------The end--------------------\n",
    "## Complexity\tCode Example\n",
    "- O(1)\tAccessing the first element of an array\n",
    "- O(log n)\tBinary search\n",
    "- O(n)\tFinding the maximum value in an array\n",
    "- O(n log n)\tMerge Sort\n",
    "- O(n^2)\tBubble Sort\n",
    "- O(n^3)\tMatrix multiplication\n",
    "- O(2^n)\tRecursive Fibonacci\n",
    "- O(n!)\tGenerating permutations"
   ]
  }
 ],
 "metadata": {
  "kernelspec": {
   "display_name": "dsa",
   "language": "python",
   "name": "python3"
  },
  "language_info": {
   "codemirror_mode": {
    "name": "ipython",
    "version": 3
   },
   "file_extension": ".py",
   "mimetype": "text/x-python",
   "name": "python",
   "nbconvert_exporter": "python",
   "pygments_lexer": "ipython3",
   "version": "3.12.4"
  }
 },
 "nbformat": 4,
 "nbformat_minor": 2
}
