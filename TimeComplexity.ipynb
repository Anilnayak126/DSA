{
 "cells": [
  {
   "cell_type": "markdown",
   "metadata": {},
   "source": [
    "# O(1): Constant Time\n",
    "\n",
    "Desc : The algorithm takes the same amount of time to execute, regardless of the input size.\n",
    "\n",
    "Ex :  Accessing an element in an array by index."
   ]
  },
  {
   "cell_type": "code",
   "execution_count": null,
   "metadata": {},
   "outputs": [],
   "source": [
    "arr = [1,2,3]\n",
    "\n",
    "def get_first_element(index,arr):\n",
    "      return arr[index]"
   ]
  },
  {
   "cell_type": "markdown",
   "metadata": {},
   "source": [
    "# O(log N): Logarithmic Time\n",
    "\n",
    "Description: The algorithm's runtime grows logarithmically with the input size. Common in divide-and-conquer algorithms.\n",
    "\n",
    "Example: Binary search."
   ]
  },
  {
   "cell_type": "code",
   "execution_count": 10,
   "metadata": {},
   "outputs": [
    {
     "name": "stdout",
     "output_type": "stream",
     "text": [
      "element Found!!!\n",
      "0.0\n"
     ]
    }
   ],
   "source": [
    "import datetime\n",
    "ele = [12,23,45,56,67]\n",
    "\n",
    "start_time = datetime.datetime.now()\n",
    "\n",
    "def binary_search(target,arr):\n",
    "\n",
    "    arr.sort()\n",
    "    \n",
    "    low,high = 0,len(arr) -1\n",
    "    \n",
    "    while low <= high:\n",
    "        mid = (low  + high) // 2\n",
    "        arr_mid = arr[mid]\n",
    "\n",
    "        if arr_mid == target:\n",
    "            \n",
    "            return \"element Found!!!\"\n",
    "        elif arr_mid < target:\n",
    "            low =  mid + 1\n",
    "        elif arr_mid > target:\n",
    "            high = mid -1 \n",
    "    return \"Notfound\"\n",
    "\n",
    "end_time = datetime.datetime.now()\n",
    "\n",
    "print(binary_search(23,ele))\n",
    "print((end_time - start_time).total_seconds())\n"
   ]
  }
 ],
 "metadata": {
  "kernelspec": {
   "display_name": "dsa",
   "language": "python",
   "name": "python3"
  },
  "language_info": {
   "name": "python",
   "version": "3.12.4"
  }
 },
 "nbformat": 4,
 "nbformat_minor": 2
}
