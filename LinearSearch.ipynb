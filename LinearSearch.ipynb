{
 "cells": [
  {
   "cell_type": "markdown",
   "metadata": {},
   "source": [
    "## Linear Search  Algorithm\n",
    "\n",
    "### Find cards"
   ]
  },
  {
   "cell_type": "code",
   "execution_count": 219,
   "metadata": {},
   "outputs": [],
   "source": [
    "def find_cards(cards,query):\n",
    "\n",
    "    position  = 0\n",
    "\n",
    "    print('cards', cards)\n",
    "    print('query' ,query)\n",
    "\n",
    "    while position < len(cards):\n",
    "        print([position])\n",
    "        if cards[position] == query:\n",
    "            \n",
    "            return position \n",
    "\n",
    "        position += 1\n",
    "      \n",
    "    return -1\n",
    "\n",
    "\n"
   ]
  },
  {
   "cell_type": "markdown",
   "metadata": {},
   "source": [
    "## TestCases"
   ]
  },
  {
   "cell_type": "code",
   "execution_count": 220,
   "metadata": {},
   "outputs": [],
   "source": [
    "# testcases\n",
    "\n",
    "test = {\n",
    "    'input' : {\n",
    "        'cards':[12,34,45,23],\n",
    "        'query' : 45\n",
    "    },\n",
    "    'output' :2\n",
    "}\n"
   ]
  },
  {
   "cell_type": "code",
   "execution_count": 221,
   "metadata": {},
   "outputs": [],
   "source": [
    "tests = []"
   ]
  },
  {
   "cell_type": "code",
   "execution_count": 222,
   "metadata": {},
   "outputs": [],
   "source": [
    "# quert occurs in the middle\n",
    "\n",
    "tests.append(test)\n",
    "\n",
    "tests.append({\n",
    "    'input':{\n",
    "        'cards':[12,34,1,2,3,9],\n",
    "        'query':1\n",
    "    },\n",
    "    'output': 2\n",
    "})\n"
   ]
  },
  {
   "cell_type": "code",
   "execution_count": 223,
   "metadata": {},
   "outputs": [],
   "source": [
    "# query in the last element \n",
    "\n",
    "tests.append({\n",
    "    'input':{\n",
    "        'cards':[12,34,1,2,3,-9],\n",
    "        'query':-9\n",
    "    },\n",
    "    'output': 5\n",
    "})\n"
   ]
  },
  {
   "cell_type": "code",
   "execution_count": 224,
   "metadata": {},
   "outputs": [],
   "source": [
    "#  query in the first element \n",
    "tests.append({\n",
    "    'input':{\n",
    "        'cards':[12,34,1,2,3,9],\n",
    "        'query':12\n",
    "    },\n",
    "    'output': 0\n",
    "})\n"
   ]
  },
  {
   "cell_type": "code",
   "execution_count": 225,
   "metadata": {},
   "outputs": [],
   "source": [
    "#cards contains both query and cards \n",
    "tests.append({\n",
    "    'input':{\n",
    "        'cards':[2],\n",
    "        'query' :2,\n",
    "    },\n",
    "    'output': 0\n",
    "})"
   ]
  },
  {
   "cell_type": "code",
   "execution_count": 226,
   "metadata": {},
   "outputs": [],
   "source": [
    "# if card  doesnt have any cards like this\n",
    "tests.append({\n",
    "    'input':{\n",
    "        'cards':[12,34,2,45],\n",
    "        'query':3,\n",
    "    },\n",
    "    'output': -1\n",
    "})"
   ]
  },
  {
   "cell_type": "code",
   "execution_count": 227,
   "metadata": {},
   "outputs": [],
   "source": [
    "# if card  doesnt have any cards \n",
    "tests.append({\n",
    "    'input':{\n",
    "        'cards':[],\n",
    "        'query':3,\n",
    "    },\n",
    "    'output': -1\n",
    "})"
   ]
  },
  {
   "cell_type": "code",
   "execution_count": 228,
   "metadata": {},
   "outputs": [],
   "source": [
    "# number can repeat in cards\n",
    "\n",
    "tests.append({\n",
    "    'input':{\n",
    "        'cards':[12,23,12,34,12,12],\n",
    "        'query':34,\n",
    "    },\n",
    "    'output': 3\n",
    "})\n"
   ]
  },
  {
   "cell_type": "code",
   "execution_count": 229,
   "metadata": {},
   "outputs": [],
   "source": [
    "# query occurs multiple time\n",
    "\n",
    "tests.append({\n",
    "    'input':{\n",
    "        'cards':[12,23,12,34,12,12],\n",
    "        'query':12,\n",
    "    },\n",
    "    'output': 0\n",
    "})"
   ]
  },
  {
   "cell_type": "code",
   "execution_count": 230,
   "metadata": {},
   "outputs": [
    {
     "data": {
      "text/plain": [
       "[{'input': {'cards': [12, 34, 45, 23], 'query': 45}, 'output': 2},\n",
       " {'input': {'cards': [12, 34, 1, 2, 3, 9], 'query': 1}, 'output': 2},\n",
       " {'input': {'cards': [12, 34, 1, 2, 3, -9], 'query': -9}, 'output': 5},\n",
       " {'input': {'cards': [12, 34, 1, 2, 3, 9], 'query': 12}, 'output': 0},\n",
       " {'input': {'cards': [2], 'query': 2}, 'output': 0},\n",
       " {'input': {'cards': [12, 34, 2, 45], 'query': 3}, 'output': -1},\n",
       " {'input': {'cards': [], 'query': 3}, 'output': -1},\n",
       " {'input': {'cards': [12, 23, 12, 34, 12, 12], 'query': 34}, 'output': 3},\n",
       " {'input': {'cards': [12, 23, 12, 34, 12, 12], 'query': 12}, 'output': 0}]"
      ]
     },
     "execution_count": 230,
     "metadata": {},
     "output_type": "execute_result"
    }
   ],
   "source": [
    "tests"
   ]
  },
  {
   "cell_type": "code",
   "execution_count": 231,
   "metadata": {},
   "outputs": [
    {
     "data": {
      "text/plain": [
       "{'input': {'cards': [12, 34, 45, 23], 'query': 45}, 'output': 2}"
      ]
     },
     "execution_count": 231,
     "metadata": {},
     "output_type": "execute_result"
    }
   ],
   "source": [
    "test"
   ]
  },
  {
   "cell_type": "code",
   "execution_count": 232,
   "metadata": {},
   "outputs": [
    {
     "name": "stdout",
     "output_type": "stream",
     "text": [
      "cards [12, 34, 45, 23]\n",
      "query 45\n",
      "[0]\n",
      "[1]\n",
      "[2]\n"
     ]
    },
    {
     "data": {
      "text/plain": [
       "2"
      ]
     },
     "execution_count": 232,
     "metadata": {},
     "output_type": "execute_result"
    }
   ],
   "source": [
    "find_card  = find_cards(test['input']['cards'],test['input']['query'])\n",
    "find_card"
   ]
  },
  {
   "cell_type": "code",
   "execution_count": 233,
   "metadata": {},
   "outputs": [
    {
     "data": {
      "text/plain": [
       "True"
      ]
     },
     "execution_count": 233,
     "metadata": {},
     "output_type": "execute_result"
    }
   ],
   "source": [
    "find_card == test['output']"
   ]
  },
  {
   "cell_type": "code",
   "execution_count": 234,
   "metadata": {},
   "outputs": [],
   "source": [
    "from jovian.pythondsa import evaluate_test_case"
   ]
  },
  {
   "cell_type": "code",
   "execution_count": 235,
   "metadata": {},
   "outputs": [
    {
     "name": "stdout",
     "output_type": "stream",
     "text": [
      "\n",
      "Input:\n",
      "{'cards': [12, 34, 45, 23], 'query': 45}\n",
      "\n",
      "Expected Output:\n",
      "2\n",
      "\n",
      "cards [12, 34, 45, 23]\n",
      "query 45\n",
      "[0]\n",
      "[1]\n",
      "[2]\n",
      "\n",
      "Actual Output:\n",
      "2\n",
      "\n",
      "Execution Time:\n",
      "0.068 ms\n",
      "\n",
      "Test Result:\n",
      "\u001b[92mPASSED\u001b[0m\n",
      "\n"
     ]
    },
    {
     "data": {
      "text/plain": [
       "(2, True, 0.068)"
      ]
     },
     "execution_count": 235,
     "metadata": {},
     "output_type": "execute_result"
    }
   ],
   "source": [
    "evaluate_test_case(find_cards,test)"
   ]
  },
  {
   "cell_type": "markdown",
   "metadata": {},
   "source": [
    "## MultiPle TestCases"
   ]
  },
  {
   "cell_type": "code",
   "execution_count": 236,
   "metadata": {},
   "outputs": [],
   "source": [
    "from jovian.pythondsa import evaluate_test_cases"
   ]
  },
  {
   "cell_type": "code",
   "execution_count": 237,
   "metadata": {},
   "outputs": [
    {
     "name": "stdout",
     "output_type": "stream",
     "text": [
      "cards [12, 34, 45, 23]\n",
      "query 45\n",
      "[0]\n",
      "[1]\n",
      "[2]\n",
      "True\n",
      "cards [12, 34, 1, 2, 3, 9]\n",
      "query 1\n",
      "[0]\n",
      "[1]\n",
      "[2]\n",
      "True\n",
      "cards [12, 34, 1, 2, 3, -9]\n",
      "query -9\n",
      "[0]\n",
      "[1]\n",
      "[2]\n",
      "[3]\n",
      "[4]\n",
      "[5]\n",
      "True\n",
      "cards [12, 34, 1, 2, 3, 9]\n",
      "query 12\n",
      "[0]\n",
      "True\n",
      "cards [2]\n",
      "query 2\n",
      "[0]\n",
      "True\n",
      "cards [12, 34, 2, 45]\n",
      "query 3\n",
      "[0]\n",
      "[1]\n",
      "[2]\n",
      "[3]\n",
      "True\n",
      "cards []\n",
      "query 3\n",
      "True\n",
      "cards [12, 23, 12, 34, 12, 12]\n",
      "query 34\n",
      "[0]\n",
      "[1]\n",
      "[2]\n",
      "[3]\n",
      "True\n",
      "cards [12, 23, 12, 34, 12, 12]\n",
      "query 12\n",
      "[0]\n",
      "True\n"
     ]
    }
   ],
   "source": [
    "for test in tests:\n",
    "   print( find_cards(test['input']['cards'],test['input']['query']) == test['output'])"
   ]
  },
  {
   "cell_type": "code",
   "execution_count": 238,
   "metadata": {},
   "outputs": [
    {
     "name": "stdout",
     "output_type": "stream",
     "text": [
      "\n",
      "\u001b[1mTEST CASE #0\u001b[0m\n",
      "cards [12, 34, 45, 23]\n",
      "query 45\n",
      "[0]\n",
      "[1]\n",
      "[2]\n",
      "\n",
      "Input:\n",
      "{'cards': [12, 34, 45, 23], 'query': 45}\n",
      "\n",
      "Expected Output:\n",
      "2\n",
      "\n",
      "\n",
      "Actual Output:\n",
      "2\n",
      "\n",
      "Execution Time:\n",
      "0.068 ms\n",
      "\n",
      "Test Result:\n",
      "\u001b[92mPASSED\u001b[0m\n",
      "\n",
      "\n",
      "\u001b[1mTEST CASE #1\u001b[0m\n",
      "cards [12, 34, 1, 2, 3, 9]\n",
      "query 1\n",
      "[0]\n",
      "[1]\n",
      "[2]\n",
      "\n",
      "Input:\n",
      "{'cards': [12, 34, 1, 2, 3, 9], 'query': 1}\n",
      "\n",
      "Expected Output:\n",
      "2\n",
      "\n",
      "\n",
      "Actual Output:\n",
      "2\n",
      "\n",
      "Execution Time:\n",
      "0.063 ms\n",
      "\n",
      "Test Result:\n",
      "\u001b[92mPASSED\u001b[0m\n",
      "\n",
      "\n",
      "\u001b[1mTEST CASE #2\u001b[0m\n",
      "cards [12, 34, 1, 2, 3, -9]\n",
      "query -9\n",
      "[0]\n",
      "[1]\n",
      "[2]\n",
      "[3]\n",
      "[4]\n",
      "[5]\n",
      "\n",
      "Input:\n",
      "{'cards': [12, 34, 1, 2, 3, -9], 'query': -9}\n",
      "\n",
      "Expected Output:\n",
      "5\n",
      "\n",
      "\n",
      "Actual Output:\n",
      "5\n",
      "\n",
      "Execution Time:\n",
      "0.102 ms\n",
      "\n",
      "Test Result:\n",
      "\u001b[92mPASSED\u001b[0m\n",
      "\n",
      "\n",
      "\u001b[1mTEST CASE #3\u001b[0m\n",
      "cards [12, 34, 1, 2, 3, 9]\n",
      "query 12\n",
      "[0]\n",
      "\n",
      "Input:\n",
      "{'cards': [12, 34, 1, 2, 3, 9], 'query': 12}\n",
      "\n",
      "Expected Output:\n",
      "0\n",
      "\n",
      "\n",
      "Actual Output:\n",
      "0\n",
      "\n",
      "Execution Time:\n",
      "0.041 ms\n",
      "\n",
      "Test Result:\n",
      "\u001b[92mPASSED\u001b[0m\n",
      "\n",
      "\n",
      "\u001b[1mTEST CASE #4\u001b[0m\n",
      "cards [2]\n",
      "query 2\n",
      "[0]\n",
      "\n",
      "Input:\n",
      "{'cards': [2], 'query': 2}\n",
      "\n",
      "Expected Output:\n",
      "0\n",
      "\n",
      "\n",
      "Actual Output:\n",
      "0\n",
      "\n",
      "Execution Time:\n",
      "0.036 ms\n",
      "\n",
      "Test Result:\n",
      "\u001b[92mPASSED\u001b[0m\n",
      "\n",
      "\n",
      "\u001b[1mTEST CASE #5\u001b[0m\n",
      "cards [12, 34, 2, 45]\n",
      "query 3\n",
      "[0]\n",
      "[1]\n",
      "[2]\n",
      "[3]\n",
      "\n",
      "Input:\n",
      "{'cards': [12, 34, 2, 45], 'query': 3}\n",
      "\n",
      "Expected Output:\n",
      "-1\n",
      "\n",
      "\n",
      "Actual Output:\n",
      "-1\n",
      "\n",
      "Execution Time:\n",
      "0.058 ms\n",
      "\n",
      "Test Result:\n",
      "\u001b[92mPASSED\u001b[0m\n",
      "\n",
      "\n",
      "\u001b[1mTEST CASE #6\u001b[0m\n",
      "cards []\n",
      "query 3\n",
      "\n",
      "Input:\n",
      "{'cards': [], 'query': 3}\n",
      "\n",
      "Expected Output:\n",
      "-1\n",
      "\n",
      "\n",
      "Actual Output:\n",
      "-1\n",
      "\n",
      "Execution Time:\n",
      "0.03 ms\n",
      "\n",
      "Test Result:\n",
      "\u001b[92mPASSED\u001b[0m\n",
      "\n",
      "\n",
      "\u001b[1mTEST CASE #7\u001b[0m\n",
      "cards [12, 23, 12, 34, 12, 12]\n",
      "query 34\n",
      "[0]\n",
      "[1]\n",
      "[2]\n",
      "[3]\n",
      "\n",
      "Input:\n",
      "{'cards': [12, 23, 12, 34, 12, 12], 'query': 34}\n",
      "\n",
      "Expected Output:\n",
      "3\n",
      "\n",
      "\n",
      "Actual Output:\n",
      "3\n",
      "\n",
      "Execution Time:\n",
      "0.065 ms\n",
      "\n",
      "Test Result:\n",
      "\u001b[92mPASSED\u001b[0m\n",
      "\n",
      "\n",
      "\u001b[1mTEST CASE #8\u001b[0m\n",
      "cards [12, 23, 12, 34, 12, 12]\n",
      "query 12\n",
      "[0]\n",
      "\n",
      "Input:\n",
      "{'cards': [12, 23, 12, 34, 12, 12], 'query': 12}\n",
      "\n",
      "Expected Output:\n",
      "0\n",
      "\n",
      "\n",
      "Actual Output:\n",
      "0\n",
      "\n",
      "Execution Time:\n",
      "0.037 ms\n",
      "\n",
      "Test Result:\n",
      "\u001b[92mPASSED\u001b[0m\n",
      "\n",
      "\n",
      "\u001b[1mSUMMARY\u001b[0m\n",
      "\n",
      "TOTAL: 9, \u001b[92mPASSED\u001b[0m: 9, \u001b[91mFAILED\u001b[0m: 0\n"
     ]
    },
    {
     "data": {
      "text/plain": [
       "[(2, True, 0.068),\n",
       " (2, True, 0.063),\n",
       " (5, True, 0.102),\n",
       " (0, True, 0.041),\n",
       " (0, True, 0.036),\n",
       " (-1, True, 0.058),\n",
       " (-1, True, 0.03),\n",
       " (3, True, 0.065),\n",
       " (0, True, 0.037)]"
      ]
     },
     "execution_count": 238,
     "metadata": {},
     "output_type": "execute_result"
    }
   ],
   "source": [
    "evaluate_test_cases(find_cards,tests)"
   ]
  }
 ],
 "metadata": {
  "kernelspec": {
   "display_name": "dsa",
   "language": "python",
   "name": "python3"
  },
  "language_info": {
   "codemirror_mode": {
    "name": "ipython",
    "version": 3
   },
   "file_extension": ".py",
   "mimetype": "text/x-python",
   "name": "python",
   "nbconvert_exporter": "python",
   "pygments_lexer": "ipython3",
   "version": "3.12.4"
  }
 },
 "nbformat": 4,
 "nbformat_minor": 2
}
