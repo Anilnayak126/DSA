{
 "cells": [
  {
   "cell_type": "markdown",
   "metadata": {},
   "source": [
    "### insertion sort"
   ]
  },
  {
   "cell_type": "code",
   "execution_count": 6,
   "metadata": {},
   "outputs": [
    {
     "name": "stdout",
     "output_type": "stream",
     "text": [
      "innternal process :   1 [12, 12, 13, 5, 6]\n",
      "innternal process :   2 [11, 12, 13, 13, 6]\n",
      "innternal process :   3 [11, 12, 12, 13, 6]\n",
      "innternal process :   4 [11, 11, 12, 13, 6]\n",
      "innternal process :   5 [5, 11, 12, 13, 13]\n",
      "innternal process :   6 [5, 11, 12, 12, 13]\n",
      "innternal process :   7 [5, 11, 11, 12, 13]\n",
      "[5, 6, 11, 12, 13]\n",
      "[5, 6, 11, 12, 13]\n"
     ]
    }
   ],
   "source": [
    "def insertion_sort(arr):\n",
    "    n = len(arr)\n",
    "    swap = 1\n",
    "\n",
    "    for i in range(1,n):\n",
    "        key = arr[i]\n",
    "\n",
    "        j = i - 1\n",
    "\n",
    "        while j >= 0 and arr[j] > key:\n",
    "            arr[j + 1] = arr[j]\n",
    "            print(\"innternal process :  \",swap,arr)\n",
    "            j -= 1\n",
    "            swap += 1\n",
    "\n",
    "        arr[j + 1] = key\n",
    "    print(arr)\n",
    "    return arr\n",
    "arr = [12, 11, 13, 5, 6]\n",
    "\n",
    "print(insertion_sort(arr))"
   ]
  },
  {
   "cell_type": "markdown",
   "metadata": {},
   "source": [
    "### Number of Comparisons/Swaps\n",
    "\n",
    "###### Given an array, count how many comparisons/swaps insertion sort performs.\n",
    "\n",
    "###### Example:\n",
    "- Input: [5, 2, 4, 6, 1, 3]"
   ]
  },
  {
   "cell_type": "code",
   "execution_count": 20,
   "metadata": {},
   "outputs": [
    {
     "name": "stdout",
     "output_type": "stream",
     "text": [
      "9\n"
     ]
    }
   ],
   "source": [
    "def swap_count(arr):\n",
    "    swaps = 0\n",
    "    for i in range(1, len(arr)):\n",
    "        key = arr[i]\n",
    "        j = i - 1\n",
    "        while j >= 0 and arr[j] > key:\n",
    "            arr[j + 1] = arr[j]  \n",
    "            swaps += 1  \n",
    "            j -= 1\n",
    "            \n",
    "        arr[j + 1] = key\n",
    "    return swaps\n",
    "\n",
    "arr = [5, 2, 4, 6, 1, 3]\n",
    "print(swap_count(arr)) "
   ]
  },
  {
   "cell_type": "markdown",
   "metadata": {},
   "source": [
    "### Insert into a Sorted Array\n",
    "\n",
    "Given a sorted array and a new element, insert it in the correct position using insertion sort logic.\n",
    "\n",
    "Example:\n",
    "Input: [1, 3, 5], key=4 → Output: [1, 3, 4, 5]."
   ]
  },
  {
   "cell_type": "code",
   "execution_count": null,
   "metadata": {},
   "outputs": [
    {
     "name": "stdout",
     "output_type": "stream",
     "text": [
      "[1, 3, 4, 5]\n"
     ]
    }
   ],
   "source": [
    "def insert_into_sorted_array(arr,k):\n",
    "    arr.append(k)\n",
    "    n = len(arr) - 2\n",
    "\n",
    "    while arr[n] > key:\n",
    "        arr[n + 1] = arr[n] \n",
    "        n -= 1\n",
    "    arr[ n + 1] = key \n",
    "           \n",
    "\n",
    "    return arr\n",
    "arr = [1, 3, 5]\n",
    "key=4\n",
    "\n",
    "print(insert_into_sorted_array(arr,key))"
   ]
  },
  {
   "cell_type": "markdown",
   "metadata": {},
   "source": [
    " #### Sort in Descending Order Using Insertion Sort"
   ]
  },
  {
   "cell_type": "code",
   "execution_count": 4,
   "metadata": {},
   "outputs": [
    {
     "name": "stdout",
     "output_type": "stream",
     "text": [
      "[23, 12, 4, 2, 1]\n"
     ]
    }
   ],
   "source": [
    "def insertion_sort(arr):\n",
    "    n = len(arr)\n",
    "\n",
    "    for  i in range(n):\n",
    "        key = arr[i]\n",
    "        j = i -  1\n",
    "\n",
    "        while j >= 0 and arr[j] < key:\n",
    "            arr[j + 1] = arr[j]\n",
    "            j -= 1\n",
    "        arr[j + 1] = key\n",
    "\n",
    "    return arr\n",
    "\n",
    "arr = [12,2,1,23,4]\n",
    "\n",
    "print(insertion_sort(arr))"
   ]
  },
  {
   "cell_type": "markdown",
   "metadata": {},
   "source": [
    "#### Sort an Array of Strings Using Insertion Sort"
   ]
  },
  {
   "cell_type": "code",
   "execution_count": 5,
   "metadata": {},
   "outputs": [
    {
     "name": "stdout",
     "output_type": "stream",
     "text": [
      "['apple', 'banana', 'cherry', 'date']\n"
     ]
    }
   ],
   "source": [
    "def sort_string(arr):\n",
    "    n = len(arr)\n",
    "\n",
    "    for i in range(n): \n",
    "        key = arr[i]\n",
    "\n",
    "        j = i - 1\n",
    "\n",
    "        while j >= 0 and arr[j] > key:\n",
    "            arr[j + 1] = arr[j]\n",
    "            j -= 1\n",
    "        \n",
    "        arr[j + 1] = key\n",
    "\n",
    "\n",
    "\n",
    "arr = [\"banana\", \"apple\", \"cherry\", \"date\"]\n",
    "sort_string(arr)\n",
    "\n",
    "print(arr)\n",
    "     "
   ]
  },
  {
   "cell_type": "markdown",
   "metadata": {},
   "source": [
    "#### Sort only the first k elements of the array using insertion sort."
   ]
  },
  {
   "cell_type": "code",
   "execution_count": null,
   "metadata": {},
   "outputs": [
    {
     "name": "stdout",
     "output_type": "stream",
     "text": [
      "[10, 7, 3]\n",
      "10\n",
      "7\n",
      "3\n",
      "[3, 7, 10]\n",
      "[3, 7, 10, 9, 5]\n"
     ]
    }
   ],
   "source": [
    "def first_k_elements(arr,k):\n",
    "    arr_ = arr[:k]\n",
    "    print(arr_)\n",
    "    for i in range(len(arr_)):\n",
    "        key = arr_[i]\n",
    "        print(key)\n",
    "        j = i - 1\n",
    "\n",
    "        while j >= 0 and arr_[j] > key:\n",
    "            arr_[j + 1] = arr_[j]\n",
    "            j -= 1\n",
    "        arr_[j + 1] = key \n",
    "    \n",
    "    print(arr_)\n",
    "\n",
    "    '''i = 0 \n",
    "    while i < k:\n",
    "        arr[i],arr_[i] = arr_[i],arr[i]\n",
    "        i += 1\n",
    "\n",
    "    return arr'''\n",
    "    \n",
    "    arr[:k] = arr_\n",
    "\n",
    "    return arr\n",
    "\n",
    "arr = [10, 7, 3, 9, 5]\n",
    "k = 3\n",
    "\n",
    "print(first_k_elements(arr,k))\n",
    "\n",
    "# print(arr)\n",
    "\n",
    "    "
   ]
  },
  {
   "cell_type": "markdown",
   "metadata": {},
   "source": [
    "##### Sort Array of Tuples Based on Second Element"
   ]
  },
  {
   "cell_type": "code",
   "execution_count": 23,
   "metadata": {},
   "outputs": [
    {
     "name": "stdout",
     "output_type": "stream",
     "text": [
      "(1, 4)\n",
      "(2, 1)\n",
      "(3, 5)\n",
      "(4, 2)\n",
      "[(2, 1), (4, 2), (1, 4), (3, 5)]\n"
     ]
    }
   ],
   "source": [
    "def sort_array_of_tuple(arr):\n",
    "    \n",
    "    n = len(arr)\n",
    "\n",
    "    for i in range(n):\n",
    "        key = arr[i]\n",
    "        j = i - 1\n",
    "\n",
    "        print(key)\n",
    "\n",
    "        while j >= 0 and arr[j][1] > key[1]:\n",
    "            arr[j+1] = arr[j]\n",
    "            j -= 1\n",
    "        arr[j + 1] = key\n",
    "\n",
    "arr = [(1, 4), (2, 1), (3, 5), (4, 2)]\n",
    "\n",
    "sort_array_of_tuple(arr)\n",
    "\n",
    "\n",
    "print(arr)\n",
    "\n",
    "\n"
   ]
  },
  {
   "cell_type": "markdown",
   "metadata": {},
   "source": [
    " ### Sort Rows of a 2D Matrix Using Insertion Sort"
   ]
  },
  {
   "cell_type": "code",
   "execution_count": 25,
   "metadata": {},
   "outputs": [
    {
     "name": "stdout",
     "output_type": "stream",
     "text": [
      "[[5, 11, 34], [3, 8, 67], [6, 12, 98]]\n"
     ]
    }
   ],
   "source": [
    "def sort_2d_matrix(arr):\n",
    "    \n",
    "    def insertion_sort(arr):\n",
    "        n = len(arr) \n",
    "\n",
    "        for i in range(n): \n",
    "            key = arr[i]\n",
    "            j = i - 1\n",
    "\n",
    "            while j >= 0 and arr[j] > key:\n",
    "                arr[j + 1] = arr[j]\n",
    "\n",
    "                j -= 1\n",
    "            arr[j + 1] = key\n",
    "    for i in arr:\n",
    "        insertion_sort(i)\n",
    "\n",
    "matrix = [\n",
    "  [34, 11, 5],\n",
    "  [67, 3, 8],\n",
    "  [12, 98, 6]\n",
    "]\n",
    "\n",
    "sort_2d_matrix(matrix)\n",
    "\n",
    "print(matrix)\n"
   ]
  }
 ],
 "metadata": {
  "kernelspec": {
   "display_name": "dsa",
   "language": "python",
   "name": "python3"
  },
  "language_info": {
   "codemirror_mode": {
    "name": "ipython",
    "version": 3
   },
   "file_extension": ".py",
   "mimetype": "text/x-python",
   "name": "python",
   "nbconvert_exporter": "python",
   "pygments_lexer": "ipython3",
   "version": "3.12.4"
  }
 },
 "nbformat": 4,
 "nbformat_minor": 2
}
