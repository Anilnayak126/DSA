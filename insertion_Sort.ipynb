{
 "cells": [
  {
   "cell_type": "markdown",
   "metadata": {},
   "source": [
    "### insertion sort"
   ]
  },
  {
   "cell_type": "code",
   "execution_count": 6,
   "metadata": {},
   "outputs": [
    {
     "name": "stdout",
     "output_type": "stream",
     "text": [
      "innternal process :   1 [12, 12, 13, 5, 6]\n",
      "innternal process :   2 [11, 12, 13, 13, 6]\n",
      "innternal process :   3 [11, 12, 12, 13, 6]\n",
      "innternal process :   4 [11, 11, 12, 13, 6]\n",
      "innternal process :   5 [5, 11, 12, 13, 13]\n",
      "innternal process :   6 [5, 11, 12, 12, 13]\n",
      "innternal process :   7 [5, 11, 11, 12, 13]\n",
      "[5, 6, 11, 12, 13]\n",
      "[5, 6, 11, 12, 13]\n"
     ]
    }
   ],
   "source": [
    "def insertion_sort(arr):\n",
    "    n = len(arr)\n",
    "    swap = 1\n",
    "\n",
    "    for i in range(1,n):\n",
    "        key = arr[i]\n",
    "\n",
    "        j = i - 1\n",
    "\n",
    "        while j >= 0 and arr[j] > key:\n",
    "            arr[j + 1] = arr[j]\n",
    "            print(\"innternal process :  \",swap,arr)\n",
    "            j -= 1\n",
    "            swap += 1\n",
    "\n",
    "        arr[j + 1] = key\n",
    "    print(arr)\n",
    "    return arr\n",
    "arr = [12, 11, 13, 5, 6]\n",
    "\n",
    "print(insertion_sort(arr))"
   ]
  },
  {
   "cell_type": "markdown",
   "metadata": {},
   "source": [
    "### Number of Comparisons/Swaps\n",
    "\n",
    "###### Given an array, count how many comparisons/swaps insertion sort performs.\n",
    "\n",
    "###### Example:\n",
    "- Input: [5, 2, 4, 6, 1, 3]"
   ]
  },
  {
   "cell_type": "code",
   "execution_count": 20,
   "metadata": {},
   "outputs": [
    {
     "name": "stdout",
     "output_type": "stream",
     "text": [
      "9\n"
     ]
    }
   ],
   "source": [
    "def swap_count(arr):\n",
    "    swaps = 0\n",
    "    for i in range(1, len(arr)):\n",
    "        key = arr[i]\n",
    "        j = i - 1\n",
    "        while j >= 0 and arr[j] > key:\n",
    "            arr[j + 1] = arr[j]  \n",
    "            swaps += 1  \n",
    "            j -= 1\n",
    "            \n",
    "        arr[j + 1] = key\n",
    "    return swaps\n",
    "\n",
    "arr = [5, 2, 4, 6, 1, 3]\n",
    "print(swap_count(arr)) "
   ]
  },
  {
   "cell_type": "markdown",
   "metadata": {},
   "source": [
    "### Insert into a Sorted Array\n",
    "\n",
    "Given a sorted array and a new element, insert it in the correct position using insertion sort logic.\n",
    "\n",
    "Example:\n",
    "Input: [1, 3, 5], key=4 → Output: [1, 3, 4, 5]."
   ]
  },
  {
   "cell_type": "code",
   "execution_count": null,
   "metadata": {},
   "outputs": [
    {
     "name": "stdout",
     "output_type": "stream",
     "text": [
      "[1, 3, 4, 5]\n"
     ]
    }
   ],
   "source": [
    "def insert_into_sorted_array(arr,k):\n",
    "    arr.append(k)\n",
    "    n = len(arr) - 2\n",
    "\n",
    "    while arr[n] > key:\n",
    "        arr[n + 1] = arr[n] \n",
    "        n -= 1\n",
    "    arr[ n + 1] = key \n",
    "           \n",
    "\n",
    "    return arr\n",
    "arr = [1, 3, 5]\n",
    "key=4\n",
    "\n",
    "print(insert_into_sorted_array(arr,key))"
   ]
  }
 ],
 "metadata": {
  "kernelspec": {
   "display_name": "dsa",
   "language": "python",
   "name": "python3"
  },
  "language_info": {
   "codemirror_mode": {
    "name": "ipython",
    "version": 3
   },
   "file_extension": ".py",
   "mimetype": "text/x-python",
   "name": "python",
   "nbconvert_exporter": "python",
   "pygments_lexer": "ipython3",
   "version": "3.12.4"
  }
 },
 "nbformat": 4,
 "nbformat_minor": 2
}
