{
 "cells": [
  {
   "cell_type": "markdown",
   "metadata": {},
   "source": [
    "### General Tree implementation"
   ]
  },
  {
   "cell_type": "code",
   "execution_count": 2,
   "metadata": {},
   "outputs": [
    {
     "name": "stdout",
     "output_type": "stream",
     "text": [
      " Electronics\n",
      "   |__ Mobile\n",
      "      |__ Samsung\n",
      "      |__ Nokia\n",
      "   |__ Laptop\n",
      "      |__ Mac\n",
      "      |__ Lenvoe\n"
     ]
    }
   ],
   "source": [
    "class TreeNode:\n",
    "    def __init__(self,data):\n",
    "        self.data = data\n",
    "        self.children = []\n",
    "        self.parent = None\n",
    "\n",
    "    def add_child(self,child):\n",
    "        child.parent = self\n",
    "        self.children.append(child)\n",
    "\n",
    "    def get_level(self):\n",
    "        level = 0\n",
    "        p = self.parent\n",
    "        while p :\n",
    "            level += 1\n",
    "            p = p.parent\n",
    "\n",
    "        return level \n",
    "\n",
    "    def print_tree(self):\n",
    "        spaces = \" \" * self.get_level() * 3\n",
    "        prefix = spaces + \"|__\" if self.parent else \"\"\n",
    "\n",
    "        print(prefix, self.data)\n",
    "\n",
    "        if self.children:\n",
    "            for child in self.children:\n",
    "                child.print_tree() \n",
    "\n",
    "def main():\n",
    "    root = TreeNode('Electronics')\n",
    "\n",
    "    mobile = TreeNode('Mobile')\n",
    "    mobile.add_child(TreeNode('Samsung'))\n",
    "    mobile.add_child(TreeNode('Nokia'))\n",
    "\n",
    "    Laptop = TreeNode('Laptop')\n",
    "    Laptop.add_child(TreeNode('Mac'))\n",
    "    Laptop.add_child(TreeNode('Lenvoe'))\n",
    "\n",
    "    root.add_child(mobile)\n",
    "    root.add_child(Laptop)\n",
    "\n",
    "    root.print_tree()\n",
    "\n",
    "if __name__ == '__main__':\n",
    "    main()\n",
    "\n",
    "\n"
   ]
  }
 ],
 "metadata": {
  "kernelspec": {
   "display_name": "dsa",
   "language": "python",
   "name": "python3"
  },
  "language_info": {
   "codemirror_mode": {
    "name": "ipython",
    "version": 3
   },
   "file_extension": ".py",
   "mimetype": "text/x-python",
   "name": "python",
   "nbconvert_exporter": "python",
   "pygments_lexer": "ipython3",
   "version": "3.12.4"
  }
 },
 "nbformat": 4,
 "nbformat_minor": 2
}
