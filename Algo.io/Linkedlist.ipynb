{
 "cells": [
  {
   "cell_type": "markdown",
   "metadata": {},
   "source": [
    "#### Linked List"
   ]
  },
  {
   "cell_type": "code",
   "execution_count": 8,
   "metadata": {},
   "outputs": [],
   "source": [
    "#Single  linked List\n",
    "\n",
    "class Singly_linkedList:\n",
    "    def  __init__(self,value,next=None):\n",
    "        self.value = value\n",
    "        self.next= next\n",
    "\n",
    "    def __str__(self):\n",
    "        return  str(self.value)\n",
    "\n",
    "Head = Singly_linkedList(1)\n",
    "B = Singly_linkedList(3)\n",
    "C = Singly_linkedList(45)\n",
    "D = Singly_linkedList(23)\n",
    "\n",
    "\n"
   ]
  },
  {
   "cell_type": "code",
   "execution_count": 12,
   "metadata": {},
   "outputs": [
    {
     "name": "stdout",
     "output_type": "stream",
     "text": [
      "1\n"
     ]
    }
   ],
   "source": [
    "Head.next = B\n",
    "B.next = C\n",
    "C.next = D\n",
    "\n",
    "\n",
    "print(Head)\n",
    "\n"
   ]
  },
  {
   "cell_type": "code",
   "execution_count": 14,
   "metadata": {},
   "outputs": [
    {
     "name": "stdout",
     "output_type": "stream",
     "text": [
      "1\n",
      "3\n",
      "45\n",
      "23\n"
     ]
    }
   ],
   "source": [
    "# Traverse The List\n",
    "\n",
    "cur  = Head\n",
    "\n",
    "while cur:\n",
    "    print(cur)\n",
    "    cur = cur.next"
   ]
  },
  {
   "cell_type": "code",
   "execution_count": null,
   "metadata": {},
   "outputs": [
    {
     "name": "stdout",
     "output_type": "stream",
     "text": [
      "1---->3---->45---->23\n"
     ]
    }
   ],
   "source": [
    "# Display The Linked List o(n)\n",
    "\n",
    "def Display(head):\n",
    "    list_ = []\n",
    "\n",
    "    cur = head\n",
    "    while cur:\n",
    "        list_.append(str(cur))\n",
    "        cur = cur.next\n",
    "\n",
    "    return \"---->\".join(list_)\n",
    "\n",
    "print(Display(Head))\n",
    "        "
   ]
  },
  {
   "cell_type": "code",
   "execution_count": 26,
   "metadata": {},
   "outputs": [
    {
     "name": "stdout",
     "output_type": "stream",
     "text": [
      "True\n"
     ]
    }
   ],
   "source": [
    "# Searching in a LinkedList O(n)\n",
    "\n",
    "def Searching(head,target):\n",
    "    curr = head\n",
    "    while curr:\n",
    "        if curr.value == target:\n",
    "            return True\n",
    "        curr = curr.next\n",
    "    return False\n",
    "\n",
    "print(Searching(Head,1))"
   ]
  },
  {
   "cell_type": "code",
   "execution_count": 27,
   "metadata": {},
   "outputs": [],
   "source": [
    "class DoublyLinkedList:\n",
    "    def __init__(self,val,next=None,prev =None):\n",
    "        \n",
    "        self.val = val\n",
    "        self.next = next\n",
    "        self.prev = prev\n",
    "\n",
    "    def __str__(self):\n",
    "        \n",
    "        return str(self.val)"
   ]
  },
  {
   "cell_type": "code",
   "execution_count": 29,
   "metadata": {},
   "outputs": [
    {
     "name": "stdout",
     "output_type": "stream",
     "text": [
      "1\n",
      "1\n"
     ]
    }
   ],
   "source": [
    "Head = Tail = DoublyLinkedList(1)\n",
    "print(Head)\n",
    "print(Tail)"
   ]
  },
  {
   "cell_type": "code",
   "execution_count": null,
   "metadata": {},
   "outputs": [
    {
     "data": {
      "text/plain": [
       "'1'"
      ]
     },
     "execution_count": 36,
     "metadata": {},
     "output_type": "execute_result"
    }
   ],
   "source": [
    "def Show(head):\n",
    "    cur = head \n",
    "    elements = []\n",
    "\n",
    "    while cur:\n",
    "        elements.append(str(cur))\n",
    "        cur = cur.next\n",
    "\n",
    "    return \"<-->\".join(elements)\n",
    "\n",
    "Show(Head)"
   ]
  },
  {
   "cell_type": "code",
   "execution_count": 41,
   "metadata": {},
   "outputs": [
    {
     "ename": "AttributeError",
     "evalue": "'tuple' object has no attribute 'next'",
     "output_type": "error",
     "traceback": [
      "\u001b[1;31m---------------------------------------------------------------------------\u001b[0m",
      "\u001b[1;31mAttributeError\u001b[0m                            Traceback (most recent call last)",
      "Cell \u001b[1;32mIn[41], line 7\u001b[0m\n\u001b[0;32m      4\u001b[0m     \u001b[38;5;28;01mreturn\u001b[39;00m new_node, tail\n\u001b[0;32m      6\u001b[0m head \u001b[38;5;241m=\u001b[39m tail \u001b[38;5;241m=\u001b[39m insert_At_Start(Head, Tail, \u001b[38;5;241m3\u001b[39m)\n\u001b[1;32m----> 7\u001b[0m \u001b[43mShow\u001b[49m\u001b[43m(\u001b[49m\u001b[43mhead\u001b[49m\u001b[43m)\u001b[49m\n",
      "Cell \u001b[1;32mIn[36], line 7\u001b[0m, in \u001b[0;36mShow\u001b[1;34m(head)\u001b[0m\n\u001b[0;32m      5\u001b[0m \u001b[38;5;28;01mwhile\u001b[39;00m cur:\n\u001b[0;32m      6\u001b[0m     elements\u001b[38;5;241m.\u001b[39mappend(\u001b[38;5;28mstr\u001b[39m(cur))\n\u001b[1;32m----> 7\u001b[0m     cur \u001b[38;5;241m=\u001b[39m \u001b[43mcur\u001b[49m\u001b[38;5;241;43m.\u001b[39;49m\u001b[43mnext\u001b[49m\n\u001b[0;32m      9\u001b[0m \u001b[38;5;28;01mreturn\u001b[39;00m \u001b[38;5;124m\"\u001b[39m\u001b[38;5;124m<-->\u001b[39m\u001b[38;5;124m\"\u001b[39m\u001b[38;5;241m.\u001b[39mjoin(elements)\n",
      "\u001b[1;31mAttributeError\u001b[0m: 'tuple' object has no attribute 'next'"
     ]
    }
   ],
   "source": [
    "def insert_At_Start(head, tail, val):\n",
    "    new_node = DoublyLinkedList(val, next=head)\n",
    "    head.prev = new_node\n",
    "    return new_node, tail\n",
    "\n",
    "head = tail = insert_At_Start(Head, Tail, 3)\n",
    "Show(head)\n"
   ]
  }
 ],
 "metadata": {
  "kernelspec": {
   "display_name": "dsa",
   "language": "python",
   "name": "python3"
  },
  "language_info": {
   "codemirror_mode": {
    "name": "ipython",
    "version": 3
   },
   "file_extension": ".py",
   "mimetype": "text/x-python",
   "name": "python",
   "nbconvert_exporter": "python",
   "pygments_lexer": "ipython3",
   "version": "3.12.4"
  }
 },
 "nbformat": 4,
 "nbformat_minor": 2
}
