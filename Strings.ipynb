{
 "cells": [
  {
   "cell_type": "code",
   "execution_count": 4,
   "metadata": {},
   "outputs": [
    {
     "name": "stdout",
     "output_type": "stream",
     "text": [
      "Length of 's': 12\n"
     ]
    }
   ],
   "source": [
    "#  Common String Methods in Python with Examples\n",
    "\n",
    "s = \"Anil Nayak  \"\n",
    "print(\"Length of 's':\",len(s))"
   ]
  },
  {
   "cell_type": "code",
   "execution_count": 5,
   "metadata": {},
   "outputs": [
    {
     "name": "stdout",
     "output_type": "stream",
     "text": [
      "anil nayak\n"
     ]
    }
   ],
   "source": [
    "s = \"Anil Nayak\"\n",
    "\n",
    "print(s.lower())"
   ]
  },
  {
   "cell_type": "code",
   "execution_count": 6,
   "metadata": {},
   "outputs": [
    {
     "name": "stdout",
     "output_type": "stream",
     "text": [
      "ANIL NAYAK\n"
     ]
    }
   ],
   "source": [
    "s = \"Anil Nayak\"\n",
    "print(s.upper())"
   ]
  },
  {
   "cell_type": "code",
   "execution_count": 13,
   "metadata": {},
   "outputs": [
    {
     "name": "stdout",
     "output_type": "stream",
     "text": [
      "14\n",
      "10\n",
      "----------\n",
      "Hello\n"
     ]
    }
   ],
   "source": [
    "# Remove Leading and Trailing Whitespace\n",
    "s = \"  Anil Nayak  \"\n",
    "\n",
    "print(len(s))\n",
    "\n",
    "res = s.strip()\n",
    "print(len(res))\n",
    "# --------------------------------------\n",
    "\n",
    "s2 = \"###Hello###\"\n",
    "print('-' * 10)\n",
    "print(s2.strip('#'))"
   ]
  },
  {
   "cell_type": "code",
   "execution_count": 16,
   "metadata": {},
   "outputs": [
    {
     "name": "stdout",
     "output_type": "stream",
     "text": [
      "['Anil', 'Nayak', 'Python', 'Developer']\n",
      "------------------------------\n",
      "['Learn', 'Python', 'with', 'Anil']\n"
     ]
    }
   ],
   "source": [
    "s = \"Anil,Nayak,Python,Developer\"\n",
    "\n",
    "print(s.split(','))\n",
    "print('-' * 30)\n",
    "\n",
    "# Split by default (whitespace)\n",
    "s2 = \"Learn Python with Anil\"\n",
    "print(s2.split())"
   ]
  },
  {
   "cell_type": "code",
   "execution_count": null,
   "metadata": {},
   "outputs": [
    {
     "name": "stdout",
     "output_type": "stream",
     "text": [
      "Anil--Nayak--Python--Developer\n",
      "------------------------------\n",
      "Anil Nayak Python Developer\n"
     ]
    }
   ],
   "source": [
    "words = ['Anil', 'Nayak', 'Python', 'Developer']\n",
    "\n",
    "print(\"--\".join(words))\n",
    "print('-' * 30)\n",
    "\n",
    "# Split by default (whitespace)\n",
    "\n",
    "print(' '.join(words))\n",
    "\n"
   ]
  },
  {
   "cell_type": "code",
   "execution_count": 22,
   "metadata": {},
   "outputs": [
    {
     "name": "stdout",
     "output_type": "stream",
     "text": [
      "6\n",
      "-1\n"
     ]
    }
   ],
   "source": [
    "s = \"Learn Python with Anil\"\n",
    "\n",
    "print(s.find('Python'))\n",
    "\n",
    "# Output: -1 (not found)\n",
    "print(s.find('Java'))\n"
   ]
  },
  {
   "cell_type": "code",
   "execution_count": 24,
   "metadata": {},
   "outputs": [
    {
     "name": "stdout",
     "output_type": "stream",
     "text": [
      "I love Django\n",
      "banana banana apple\n"
     ]
    }
   ],
   "source": [
    "s = \"I love Python\" \n",
    "\n",
    "print(s.replace('Python','Django'))\n",
    "\n",
    "# Replace multiple occurrences\n",
    "s2 = \"banana banana apple\"\n",
    "\n",
    "print(s2.replace(\"bannana\",\"mango\"))\n"
   ]
  },
  {
   "cell_type": "code",
   "execution_count": 25,
   "metadata": {},
   "outputs": [
    {
     "name": "stdout",
     "output_type": "stream",
     "text": [
      "True\n",
      "--------------------\n",
      "False\n"
     ]
    }
   ],
   "source": [
    "s = \"Anil Nayak is learning Python\"\n",
    "\n",
    "print(s.startswith('Anil'))\n",
    "\n",
    "print('-' * 20)\n",
    "\n",
    "print(s.startswith('Python'))"
   ]
  },
  {
   "cell_type": "code",
   "execution_count": 30,
   "metadata": {},
   "outputs": [
    {
     "name": "stdout",
     "output_type": "stream",
     "text": [
      "False\n",
      "--------------------\n",
      "True\n"
     ]
    }
   ],
   "source": [
    "s = \"Anil Nayak is learning Python\"\n",
    "\n",
    "print(s.endswith('Anil'))\n",
    "print('-' * 20)\n",
    "print(s.endswith('Python'))"
   ]
  },
  {
   "cell_type": "code",
   "execution_count": null,
   "metadata": {},
   "outputs": [
    {
     "name": "stdout",
     "output_type": "stream",
     "text": [
      "2\n"
     ]
    }
   ],
   "source": [
    "s = \"anil  nayak anil\"\n",
    "print(s.count('anil'))\n",
    "\n"
   ]
  },
  {
   "cell_type": "code",
   "execution_count": 39,
   "metadata": {},
   "outputs": [
    {
     "name": "stdout",
     "output_type": "stream",
     "text": [
      "13\n",
      "13\n",
      " Anil nayak-\n",
      "< Anil nayak\n"
     ]
    }
   ],
   "source": [
    "s = '< Anil nayak-'\n",
    "print(len(s))\n",
    "\n",
    "# Remove leading whitespace\n",
    "print(len(s.lstrip()))\n",
    "print(s.lstrip('<'))\n",
    "\n",
    "print(s.rstrip('-'))"
   ]
  },
  {
   "cell_type": "code",
   "execution_count": 40,
   "metadata": {},
   "outputs": [
    {
     "name": "stdout",
     "output_type": "stream",
     "text": [
      "Anil Nayak Is Learning Python\n"
     ]
    }
   ],
   "source": [
    "s = \"anil nayak is learning python\"\n",
    "\n",
    "print(s.title())"
   ]
  },
  {
   "cell_type": "code",
   "execution_count": 41,
   "metadata": {},
   "outputs": [
    {
     "name": "stdout",
     "output_type": "stream",
     "text": [
      "aNIL nAYAK\n"
     ]
    }
   ],
   "source": [
    "s = s = \"Anil Nayak\"\n",
    "print(s.swapcase())\n"
   ]
  },
  {
   "cell_type": "code",
   "execution_count": 43,
   "metadata": {},
   "outputs": [
    {
     "name": "stdout",
     "output_type": "stream",
     "text": [
      "True\n",
      "False\n"
     ]
    }
   ],
   "source": [
    "s = \"12345\"\n",
    "\n",
    "print(s.isdigit())\n",
    "s = \"12345r\"\n",
    "print(s.isdigit())"
   ]
  },
  {
   "cell_type": "code",
   "execution_count": 45,
   "metadata": {},
   "outputs": [
    {
     "name": "stdout",
     "output_type": "stream",
     "text": [
      "True\n"
     ]
    },
    {
     "data": {
      "text/plain": [
       "False"
      ]
     },
     "execution_count": 45,
     "metadata": {},
     "output_type": "execute_result"
    }
   ],
   "source": [
    "s = \"anilnayak\"\n",
    "print(s.isalpha())\n",
    "s = \"anilnayak4\"\n",
    "\n",
    "s.isalpha()\n"
   ]
  },
  {
   "cell_type": "code",
   "execution_count": 51,
   "metadata": {},
   "outputs": [
    {
     "name": "stdout",
     "output_type": "stream",
     "text": [
      "True\n"
     ]
    },
    {
     "data": {
      "text/plain": [
       "False"
      ]
     },
     "execution_count": 51,
     "metadata": {},
     "output_type": "execute_result"
    }
   ],
   "source": [
    "s = \"anil123\"\n",
    "print(s.isalnum())\n",
    "\n",
    "s2 = 'anil@123'\n",
    "s2.isalnum()"
   ]
  },
  {
   "cell_type": "code",
   "execution_count": 53,
   "metadata": {},
   "outputs": [
    {
     "name": "stdout",
     "output_type": "stream",
     "text": [
      "resume\n",
      ".\n",
      "pdf\n"
     ]
    }
   ],
   "source": [
    "filename = \"resume.pdf\"\n",
    "\n",
    "name,dot,extensio = filename.partition('.')\n",
    "\n",
    "print(name)\n",
    "print(dot)\n",
    "print(extensio)"
   ]
  },
  {
   "cell_type": "code",
   "execution_count": 56,
   "metadata": {},
   "outputs": [
    {
     "name": "stdout",
     "output_type": "stream",
     "text": [
      "b'Hello'\n",
      "Hello\n"
     ]
    }
   ],
   "source": [
    "s = \"Hello\"\n",
    "\n",
    "encoded = s.encode('utf-8')\n",
    "print(encoded)\n",
    "\n",
    "decodede = encoded.decode('utf-8')\n",
    "print(decodede)"
   ]
  }
 ],
 "metadata": {
  "kernelspec": {
   "display_name": "dsa",
   "language": "python",
   "name": "python3"
  },
  "language_info": {
   "codemirror_mode": {
    "name": "ipython",
    "version": 3
   },
   "file_extension": ".py",
   "mimetype": "text/x-python",
   "name": "python",
   "nbconvert_exporter": "python",
   "pygments_lexer": "ipython3",
   "version": "3.12.4"
  }
 },
 "nbformat": 4,
 "nbformat_minor": 2
}
