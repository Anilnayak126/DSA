{
 "cells": [
  {
   "cell_type": "markdown",
   "metadata": {},
   "source": [
    "- An array is a linear data structure that stores elements in contiguous memory locations. It allows random access to elements using an index.\n",
    "\n",
    "## Key Characteristics of Arrays\n",
    "\n",
    "- **Fixed Size** - The size of an array is defined at the time of creation.\n",
    "- **Contiguous Memory Allocation** - Elements are stored in adjacent memory locations.\n",
    "- **Efficient Random Access** - Accessing an element by index is O(1).\n",
    "- **Same Data Type** - All elements in an array must be of the same type."
   ]
  },
  {
   "cell_type": "code",
   "execution_count": 1,
   "metadata": {},
   "outputs": [],
   "source": [
    "# Let us say your expense for every month are listed below,\n",
    "# January - 2200\n",
    "# February - 2350\n",
    "# March - 2600\n",
    "# April - 2130\n",
    "# May - 2190\n",
    "Expenses = [2200,2350,2600,2130,2190]"
   ]
  },
  {
   "cell_type": "markdown",
   "metadata": {},
   "source": [
    "# Create a list to store these monthly expenses and using that find out,\n"
   ]
  },
  {
   "cell_type": "code",
   "execution_count": 2,
   "metadata": {},
   "outputs": [
    {
     "name": "stdout",
     "output_type": "stream",
     "text": [
      "your feb spent compare to jan 150\n"
     ]
    }
   ],
   "source": [
    "# Problem 1 \n",
    "# 1. In Feb, how many dollars you spent extra compare to January?\n",
    "\n",
    "jan = Expenses[0]\n",
    "feb = Expenses[1]\n",
    "\n",
    "spent = feb - jan\n",
    "\n",
    "print(f\"your feb spent compare to jan {spent}\")"
   ]
  },
  {
   "cell_type": "code",
   "execution_count": 3,
   "metadata": {},
   "outputs": [
    {
     "name": "stdout",
     "output_type": "stream",
     "text": [
      "Your total expense is 7150\n",
      "Expected Output : 7150\n"
     ]
    }
   ],
   "source": [
    "# 2. Find out your total expense in first quarter (first three months) of the year.\n",
    "\n",
    "def total_expense(exp):\n",
    "    exp_sum = 0 \n",
    "    count = 0\n",
    "    for i in exp:\n",
    "        if count < 3:\n",
    "         exp_sum += i\n",
    "         count += 1\n",
    "\n",
    "    return f\"Your total expense is {exp_sum}\"\n",
    "\n",
    "\n",
    "total = total_expense(Expenses)\n",
    "\n",
    "print(total)\n",
    "\n",
    "print(\"Expected Output :\",Expenses[0] + Expenses[1] + Expenses[2])"
   ]
  },
  {
   "cell_type": "code",
   "execution_count": 4,
   "metadata": {},
   "outputs": [
    {
     "name": "stdout",
     "output_type": "stream",
     "text": [
      "there is no expense history like 2000\n",
      "[2200, 2350, 2600, 2130, 2190]\n"
     ]
    }
   ],
   "source": [
    "# 3. Find out if you spent exactly 2000 dollars in any month\n",
    "\n",
    "def find_M_Expenses(exp,dollar):\n",
    "    months = [\"Jan\",\"Feb\",\"March\",\"April\",\"May\"]\n",
    "    for i in exp:\n",
    "        if dollar == i:\n",
    "            index = exp.index(i)\n",
    "            return f\"In {months[index]}  this Month you  have spent {dollar}\"\n",
    "        else:\n",
    "            return f\"there is no expense history like {dollar}\"\n",
    "        \n",
    "find = find_M_Expenses(Expenses,2000)\n",
    "\n",
    "print(find)\n",
    "print(Expenses)"
   ]
  },
  {
   "cell_type": "code",
   "execution_count": 5,
   "metadata": {},
   "outputs": [
    {
     "name": "stdout",
     "output_type": "stream",
     "text": [
      "[2200, 2350, 2600, 2130, 2190, 1980]\n"
     ]
    }
   ],
   "source": [
    "# June month just finished and your expense is 1980 dollar. Add this item to our monthly expense list\n",
    "\n",
    "def Add_element(exp,spent_):\n",
    "    \n",
    "    exp.append(spent_)\n",
    "\n",
    "    return f\"Here is your updated List : {exp}\"\n",
    "\n",
    "\n",
    "Add_element(Expenses,1980)\n",
    "print(Expenses)"
   ]
  },
  {
   "cell_type": "code",
   "execution_count": 6,
   "metadata": {},
   "outputs": [
    {
     "name": "stdout",
     "output_type": "stream",
     "text": [
      "[2200, 2350, 2600, 2130, 2190, 1980]\n",
      "Updated function [2200, 2350, 2600, 2330, 2130, 2190, 1980]\n"
     ]
    }
   ],
   "source": [
    "''' You returned an item that you bought in a month of April and\n",
    " got a refund of 200$. Make a correction to your monthly expense list\n",
    "based on this'''\n",
    "\n",
    "print(Expenses)\n",
    "\n",
    "def Add_after_Refund(exp,refund_a):\n",
    "    c_exp = exp[3]\n",
    "    r_amount = c_exp + refund_a\n",
    "\n",
    "    exp.insert(3,r_amount)\n",
    "\n",
    "    return \n",
    "\n",
    "\n",
    "Add_after_Refund(Expenses,200)\n",
    "print(\"Updated function\",Expenses)\n",
    "\n",
    "\n",
    "\n",
    "\n"
   ]
  },
  {
   "cell_type": "code",
   "execution_count": 7,
   "metadata": {},
   "outputs": [
    {
     "name": "stdout",
     "output_type": "stream",
     "text": [
      "Length :  5\n"
     ]
    }
   ],
   "source": [
    "# You have a list of your favourite marvel super heros.\n",
    "\n",
    "heros=['spider man','thor','hulk','iron man','captain america']\n",
    "\n",
    "# 1. Length of the list\n",
    "\n",
    "print(\"Length : \",len(heros))"
   ]
  },
  {
   "cell_type": "code",
   "execution_count": 8,
   "metadata": {},
   "outputs": [
    {
     "name": "stdout",
     "output_type": "stream",
     "text": [
      "['spider man', 'thor', 'hulk', 'iron man', 'captain america']\n",
      "['spider man', 'thor', 'hulk', 'iron man', 'captain america', 'black panther']\n"
     ]
    }
   ],
   "source": [
    "# 2. Add 'black panther' at the end of this list\n",
    "print(heros)\n",
    "heros.append(\"black panther\")\n",
    "print(heros)"
   ]
  },
  {
   "cell_type": "code",
   "execution_count": 9,
   "metadata": {},
   "outputs": [
    {
     "name": "stdout",
     "output_type": "stream",
     "text": [
      "['spider man', 'thor', 'hulk', 'iron man', 'captain america', 'black panther']\n",
      "['spider man', 'thor', 'hulk', 'iron man', 'captain america', 'black panther']\n",
      "--------------------\n",
      "['spider man', 'thor', 'hulk', 'black panther', 'iron man', 'captain america', 'black panther']\n"
     ]
    }
   ],
   "source": [
    "print(heros)\n",
    "# heros.remove(\"black panther\")\n",
    "print(heros)\n",
    "print(\"-\" * 20)\n",
    "heros.insert(heros.index('hulk')+1,\"black panther\")\n",
    "print(heros)"
   ]
  },
  {
   "cell_type": "code",
   "execution_count": 10,
   "metadata": {},
   "outputs": [
    {
     "name": "stdout",
     "output_type": "stream",
     "text": [
      "Before ['spider man', 'thor', 'hulk', 'black panther', 'iron man', 'captain america', 'black panther']\n",
      "['spider man', 'doctor', 'black panther', 'iron man', 'captain america', 'black panther']\n"
     ]
    }
   ],
   "source": [
    "'''Now you don't like thor and hulk because they get angry easily :)\n",
    "   So you want to remove thor and hulk from list and replace them with doctor strange (because he is cool).\n",
    "   Do that with one line of code.'''\n",
    "\n",
    "print(\"Before\",heros)\n",
    "\n",
    "heros[1:3 ] = [\"doctor\"]\n",
    "\n",
    "print(heros)\n"
   ]
  },
  {
   "cell_type": "code",
   "execution_count": 11,
   "metadata": {},
   "outputs": [
    {
     "name": "stdout",
     "output_type": "stream",
     "text": [
      "After sort : ['black panther', 'black panther', 'captain america', 'doctor', 'iron man', 'spider man']\n"
     ]
    }
   ],
   "source": [
    "heros.sort()\n",
    "print(\"After sort :\", heros)"
   ]
  },
  {
   "cell_type": "code",
   "execution_count": 1,
   "metadata": {},
   "outputs": [
    {
     "name": "stdout",
     "output_type": "stream",
     "text": [
      "Odd List :  [1, 3, 5, 7, 9]\n"
     ]
    }
   ],
   "source": [
    "# Create a list of all odd numbers between 1 and a max number. Max number is something you need to take from a user using input() function\n",
    "\n",
    "def Odd_numbers():\n",
    "    max_ = int(input(\"enter ur max value to  filter :\" ))\n",
    "    odd_list = []\n",
    "\n",
    "    for i in range(1, max_+1):\n",
    "\n",
    "        if i % 2 != 0:\n",
    "            odd_list.append(i)\n",
    "\n",
    "    return f\"Odd List :  {odd_list}\"\n",
    "\n",
    "odd = Odd_numbers()\n",
    "\n",
    "print(odd)\n"
   ]
  }
 ],
 "metadata": {
  "kernelspec": {
   "display_name": "dsa",
   "language": "python",
   "name": "python3"
  },
  "language_info": {
   "codemirror_mode": {
    "name": "ipython",
    "version": 3
   },
   "file_extension": ".py",
   "mimetype": "text/x-python",
   "name": "python",
   "nbconvert_exporter": "python",
   "pygments_lexer": "ipython3",
   "version": "3.12.4"
  }
 },
 "nbformat": 4,
 "nbformat_minor": 2
}
