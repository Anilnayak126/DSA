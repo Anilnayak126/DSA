{
 "cells": [
  {
   "cell_type": "markdown",
   "metadata": {},
   "source": [
    "### Hash Table Implementation in Python\n",
    "\n",
    "\n",
    "A Hash Table (or Hash Map) is a data structure that stores key-value pairs. It uses a hash function to compute an index (or hash) where values are stored."
   ]
  },
  {
   "cell_type": "code",
   "execution_count": 7,
   "metadata": {},
   "outputs": [
    {
     "name": "stdout",
     "output_type": "stream",
     "text": [
      "0 ----> None\n",
      "1 ----> None\n",
      "2 ----> None\n",
      "3 ----> None\n",
      "4 ----> None\n",
      "5 ----> None\n",
      "6 ----> None\n",
      "7 ----> None\n",
      "8 ----> None\n",
      "9 ----> None\n",
      "10 ----> None\n",
      "11 ----> None\n",
      "12 ----> None\n",
      "13 ----> 24\n",
      "14 ----> None\n",
      "15 ----> None\n",
      "16 ----> 40\n",
      "17 ----> None\n",
      "18 ----> None\n",
      "19 ----> None\n"
     ]
    },
    {
     "data": {
      "text/plain": [
       "24"
      ]
     },
     "execution_count": 7,
     "metadata": {},
     "output_type": "execute_result"
    }
   ],
   "source": [
    "class SimpleHashTbale:\n",
    "    def __init__(self,size):\n",
    "        self.size = size\n",
    "        self.table = [None] * size\n",
    "\n",
    "    def hash_fucntion(self,key):\n",
    "        return hash(key) % self.size\n",
    "\n",
    "\n",
    "    def insert(self,key,value):\n",
    "        key = self.hash_fucntion(key)\n",
    "        \n",
    "        self.table[key] = value\n",
    "\n",
    "    def get(self,key):\n",
    "        index =self.hash_fucntion(key)\n",
    "\n",
    "        return self.table[index]\n",
    "\n",
    "    def display(self):\n",
    "\n",
    "        for key,valeu in enumerate(self.table):\n",
    "            print(key, \"---->\",valeu)\n",
    "\n",
    "\n",
    "\n",
    "hshtb = SimpleHashTbale(20)\n",
    "\n",
    "# hshtb.display()\n",
    "hshtb.insert('anil', 24)\n",
    "hshtb.insert('sunil', 40)\n",
    "\n",
    "hshtb.display()\n",
    "\n",
    "hshtb.get(\"anil\")\n"
   ]
  }
 ],
 "metadata": {
  "kernelspec": {
   "display_name": "dsa",
   "language": "python",
   "name": "python3"
  },
  "language_info": {
   "codemirror_mode": {
    "name": "ipython",
    "version": 3
   },
   "file_extension": ".py",
   "mimetype": "text/x-python",
   "name": "python",
   "nbconvert_exporter": "python",
   "pygments_lexer": "ipython3",
   "version": "3.12.4"
  }
 },
 "nbformat": 4,
 "nbformat_minor": 2
}
