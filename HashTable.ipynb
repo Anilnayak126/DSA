{
 "cells": [
  {
   "cell_type": "markdown",
   "metadata": {},
   "source": [
    "### Hash Table Implementation in Python\n",
    "\n",
    "\n",
    "A Hash Table (or Hash Map) is a data structure that stores key-value pairs. It uses a hash function to compute an index (or hash) where values are stored."
   ]
  },
  {
   "cell_type": "code",
   "execution_count": 7,
   "metadata": {},
   "outputs": [
    {
     "name": "stdout",
     "output_type": "stream",
     "text": [
      "0 ----> None\n",
      "1 ----> None\n",
      "2 ----> None\n",
      "3 ----> None\n",
      "4 ----> None\n",
      "5 ----> None\n",
      "6 ----> None\n",
      "7 ----> None\n",
      "8 ----> None\n",
      "9 ----> None\n",
      "10 ----> None\n",
      "11 ----> None\n",
      "12 ----> None\n",
      "13 ----> 24\n",
      "14 ----> None\n",
      "15 ----> None\n",
      "16 ----> 40\n",
      "17 ----> None\n",
      "18 ----> None\n",
      "19 ----> None\n"
     ]
    },
    {
     "data": {
      "text/plain": [
       "24"
      ]
     },
     "execution_count": 7,
     "metadata": {},
     "output_type": "execute_result"
    }
   ],
   "source": [
    "class SimpleHashTbale:\n",
    "    def __init__(self,size):\n",
    "        self.size = size\n",
    "        self.table = [None] * size\n",
    "\n",
    "    def hash_fucntion(self,key):\n",
    "        return hash(key) % self.size\n",
    "\n",
    "\n",
    "    def insert(self,key,value):\n",
    "        key = self.hash_fucntion(key)\n",
    "        \n",
    "        self.table[key] = value\n",
    "\n",
    "    def get(self,key):\n",
    "        index =self.hash_fucntion(key)\n",
    "\n",
    "        return self.table[index]\n",
    "\n",
    "    def display(self):\n",
    "\n",
    "        for key,valeu in enumerate(self.table):\n",
    "            print(key, \"---->\",valeu)\n",
    "\n",
    "\n",
    "\n",
    "hshtb = SimpleHashTbale(20)\n",
    "\n",
    "# hshtb.display()\n",
    "hshtb.insert('anil', 24)\n",
    "hshtb.insert('sunil', 40)\n",
    "\n",
    "hshtb.display()\n",
    "\n",
    "hshtb.get(\"anil\")\n"
   ]
  },
  {
   "cell_type": "markdown",
   "metadata": {},
   "source": [
    "## 2️⃣ Handling Collisions in Hash Table\n",
    "\n",
    "Collisions occur when two keys hash to the same index. The most common collision handling techniques are:\n",
    "\n",
    "Chaining (Separate Chaining)\n",
    "Open Addressing (Linear Probing, Quadratic Probing, Double Hashing)\n",
    "#### 🔹 Method 1: Collision Handling with Chaining\n",
    "We use Linked Lists (or lists in Python) to store multiple values at the same index."
   ]
  },
  {
   "cell_type": "code",
   "execution_count": 17,
   "metadata": {},
   "outputs": [
    {
     "name": "stdout",
     "output_type": "stream",
     "text": [
      "[]\n",
      "[]\n",
      "[]\n",
      "[['Anil', 23]]\n",
      "[]\n",
      "[]\n",
      "[]\n",
      "[['Sunil', 21]]\n",
      "[]\n",
      "[]\n",
      "[]\n"
     ]
    }
   ],
   "source": [
    "class HashTableIwithCollision:\n",
    "    def __init__(self,size):\n",
    "\n",
    "        self.size = size\n",
    "        self.table = [ [] for i in range(size + 1)]\n",
    "\n",
    "    def Hash_fucntion(self,key):\n",
    "        \n",
    "        return hash(key) % self.size\n",
    "    \n",
    "    def Add(self,index,value):\n",
    "\n",
    "        key = self.Hash_fucntion(index)\n",
    "\n",
    "        for i in self.table[key]:\n",
    "            if i[0] == index:\n",
    "                i[1] = value\n",
    "                return\n",
    "            \n",
    "        self.table[key].append([index,value])\n",
    "\n",
    "\n",
    "    def display(self):\n",
    "        for key,j in enumerate(self.table):\n",
    "            if len(j) > 1:\n",
    "                print(key, \" : \", j)\n",
    "            else:\n",
    "                print(j)\n",
    "\n",
    "\n",
    "Hash = HashTableIwithCollision(10)\n",
    "\n",
    "Hash.Add(\"Sunil\",21)\n",
    "Hash.Add(\"Anil\",23)\n",
    "\n",
    "Hash.display()\n",
    "    \n",
    "        "
   ]
  }
 ],
 "metadata": {
  "kernelspec": {
   "display_name": "dsa",
   "language": "python",
   "name": "python3"
  },
  "language_info": {
   "codemirror_mode": {
    "name": "ipython",
    "version": 3
   },
   "file_extension": ".py",
   "mimetype": "text/x-python",
   "name": "python",
   "nbconvert_exporter": "python",
   "pygments_lexer": "ipython3",
   "version": "3.12.4"
  }
 },
 "nbformat": 4,
 "nbformat_minor": 2
}
