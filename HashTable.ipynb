{
 "cells": [
  {
   "cell_type": "markdown",
   "metadata": {},
   "source": [
    "### Hash Table Implementation in Python\n",
    "\n",
    "\n",
    "A Hash Table (or Hash Map) is a data structure that stores key-value pairs. It uses a hash function to compute an index (or hash) where values are stored."
   ]
  },
  {
   "cell_type": "code",
   "execution_count": 25,
   "metadata": {},
   "outputs": [
    {
     "name": "stdout",
     "output_type": "stream",
     "text": [
      "0 _____ None\n",
      "1 _____ None\n",
      "2 _____ None\n",
      "3 _____ None\n",
      "4 _____ None\n"
     ]
    },
    {
     "ename": "TypeError",
     "evalue": "'NoneType' object is not iterable",
     "output_type": "error",
     "traceback": [
      "\u001b[1;31m---------------------------------------------------------------------------\u001b[0m",
      "\u001b[1;31mTypeError\u001b[0m                                 Traceback (most recent call last)",
      "Cell \u001b[1;32mIn[25], line 30\u001b[0m\n\u001b[0;32m     28\u001b[0m has \u001b[38;5;241m=\u001b[39m SimpleHashMap(\u001b[38;5;241m5\u001b[39m)\n\u001b[0;32m     29\u001b[0m has\u001b[38;5;241m.\u001b[39mDisplay()\n\u001b[1;32m---> 30\u001b[0m \u001b[43mhas\u001b[49m\u001b[38;5;241;43m.\u001b[39;49m\u001b[43mInsert\u001b[49m\u001b[43m(\u001b[49m\u001b[38;5;124;43m\"\u001b[39;49m\u001b[38;5;124;43mAnil\u001b[39;49m\u001b[38;5;124;43m\"\u001b[39;49m\u001b[43m,\u001b[49m\u001b[38;5;241;43m21\u001b[39;49m\u001b[43m)\u001b[49m\n\u001b[0;32m     31\u001b[0m has\u001b[38;5;241m.\u001b[39mDisplay()\n",
      "Cell \u001b[1;32mIn[25], line 14\u001b[0m, in \u001b[0;36mSimpleHashMap.Insert\u001b[1;34m(self, key, value)\u001b[0m\n\u001b[0;32m     11\u001b[0m \u001b[38;5;28;01mdef\u001b[39;00m \u001b[38;5;21mInsert\u001b[39m(\u001b[38;5;28mself\u001b[39m,key,value):\n\u001b[0;32m     12\u001b[0m     index \u001b[38;5;241m=\u001b[39m \u001b[38;5;28mself\u001b[39m\u001b[38;5;241m.\u001b[39mhash(key)\n\u001b[1;32m---> 14\u001b[0m \u001b[43m    \u001b[49m\u001b[38;5;28;43;01mfor\u001b[39;49;00m\u001b[43m \u001b[49m\u001b[43mi\u001b[49m\u001b[43m \u001b[49m\u001b[38;5;129;43;01min\u001b[39;49;00m\u001b[43m \u001b[49m\u001b[38;5;28;43mself\u001b[39;49m\u001b[38;5;241;43m.\u001b[39;49m\u001b[43mtable\u001b[49m\u001b[43m[\u001b[49m\u001b[43mindex\u001b[49m\u001b[43m]\u001b[49m\u001b[43m:\u001b[49m\n\u001b[0;32m     15\u001b[0m \u001b[43m        \u001b[49m\u001b[38;5;28;43;01mif\u001b[39;49;00m\u001b[43m \u001b[49m\u001b[43mi\u001b[49m\u001b[43m[\u001b[49m\u001b[38;5;241;43m0\u001b[39;49m\u001b[43m]\u001b[49m\u001b[43m \u001b[49m\u001b[38;5;241;43m==\u001b[39;49m\u001b[43m \u001b[49m\u001b[43mkey\u001b[49m\u001b[43m:\u001b[49m\n\u001b[0;32m     16\u001b[0m \u001b[43m            \u001b[49m\u001b[43mi\u001b[49m\u001b[43m[\u001b[49m\u001b[38;5;241;43m1\u001b[39;49m\u001b[43m]\u001b[49m\u001b[43m \u001b[49m\u001b[38;5;241;43m=\u001b[39;49m\u001b[43m \u001b[49m\u001b[43mvalue\u001b[49m\n",
      "\u001b[1;31mTypeError\u001b[0m: 'NoneType' object is not iterable"
     ]
    }
   ],
   "source": [
    "class SimpleHashMap:\n",
    "    def __init__(self,size):\n",
    "\n",
    "        self.size = size\n",
    "        self.table= [None] * self.size\n",
    "\n",
    "    def hash(self,key):\n",
    "        \n",
    "        return sum(ord(i) for i in str(key)) % self.size\n",
    "    \n",
    "    def Insert(self,key,value):\n",
    "        index = self.hash(key)\n",
    "\n",
    "        for i in self.table[index]:\n",
    "            if i[0] == key:\n",
    "                i[1] = value\n",
    "\n",
    "        self.table[0].append([key,value])\n",
    "\n",
    "    def Display(self):\n",
    "\n",
    "        for key,value in enumerate(self.table):\n",
    "\n",
    "            print(key, \"_____\", value)\n",
    "\n",
    "\n",
    "\n",
    "has = SimpleHashMap(5)\n",
    "has.Display()\n",
    "has.Insert(\"Anil\",21)\n",
    "has.Display()\n",
    "        "
   ]
  },
  {
   "cell_type": "markdown",
   "metadata": {},
   "source": [
    "## 2️⃣ Handling Collisions in Hash Table\n",
    "\n",
    "Collisions occur when two keys hash to the same index. The most common collision handling techniques are:\n",
    "\n",
    "Chaining (Separate Chaining)\n",
    "Open Addressing (Linear Probing, Quadratic Probing, Double Hashing)\n",
    "#### 🔹 Method 1: Collision Handling with Chaining\n",
    "We use Linked Lists (or lists in Python) to store multiple values at the same index."
   ]
  },
  {
   "cell_type": "code",
   "execution_count": null,
   "metadata": {},
   "outputs": [
    {
     "name": "stdout",
     "output_type": "stream",
     "text": [
      "21\n",
      "[['Anil', 23]]\n",
      "[]\n",
      "[]\n",
      "[]\n",
      "[['Sunil', 21]]\n",
      "[]\n",
      "[]\n",
      "[]\n",
      "[]\n",
      "[]\n",
      "[]\n"
     ]
    }
   ],
   "source": [
    "class HashTableIwithCollision:\n",
    "    def __init__(self,size):\n",
    "\n",
    "        self.size = size\n",
    "        self.table = [ [] for i in range(size + 1)]\n",
    "\n",
    "    def Hash_fucntion(self,key):\n",
    "        \n",
    "        return hash(key) % self.size\n",
    "    \n",
    "    def Add(self,index,value):\n",
    "\n",
    "        key = self.Hash_fucntion(index)\n",
    "\n",
    "        for i in self.table[key]:\n",
    "            if i[0] == index:\n",
    "                i[1] = value\n",
    "                return\n",
    "            \n",
    "        self.table[key].append([index,value])\n",
    "\n",
    "    def Get(self,key):\n",
    "        index = self.Hash_fucntion(key)\n",
    "\n",
    "        for i in self.table[index]:\n",
    "            if i[0] == key:\n",
    "                print(i[1])\n",
    "                return\n",
    "            \n",
    "        print(\"Not Found\")\n",
    "             \n",
    "\n",
    "    def display(self):\n",
    "        for key,j in enumerate(self.table):\n",
    "            if len(j) > 1:\n",
    "                print(key, \" : \", j)\n",
    "            else:\n",
    "                print(j)\n",
    "\n",
    "\n",
    "Hash = HashTableIwithCollision(10)\n",
    "\n",
    "Hash.Add(\"Sunil\",21)\n",
    "Hash.Add(\"Anil\",23)\n",
    "\n",
    "Hash.Get('Sunil')\n",
    "Hash.display()\n",
    "    \n",
    "        "
   ]
  }
 ],
 "metadata": {
  "kernelspec": {
   "display_name": "dsa",
   "language": "python",
   "name": "python3"
  },
  "language_info": {
   "codemirror_mode": {
    "name": "ipython",
    "version": 3
   },
   "file_extension": ".py",
   "mimetype": "text/x-python",
   "name": "python",
   "nbconvert_exporter": "python",
   "pygments_lexer": "ipython3",
   "version": "3.12.4"
  }
 },
 "nbformat": 4,
 "nbformat_minor": 2
}
