{
 "cells": [
  {
   "cell_type": "markdown",
   "metadata": {},
   "source": [
    "## BubbleSort"
   ]
  },
  {
   "cell_type": "code",
   "execution_count": 3,
   "metadata": {},
   "outputs": [
    {
     "name": "stdout",
     "output_type": "stream",
     "text": [
      "Result--> [-1, 4, 12, 12, 34, 456]\n"
     ]
    }
   ],
   "source": [
    "def BubbleSort(arr):\n",
    "    n = len(arr)\n",
    "\n",
    "    for i in range(n):\n",
    "        swapped = False\n",
    "        for j in range(0,n - i - 1):\n",
    "\n",
    "            if arr[j] > arr[j + 1]:\n",
    "                arr[j],arr[j+1] = arr[j + 1], arr[j]\n",
    "                swapped = True\n",
    "\n",
    "        if not swapped:\n",
    "            break\n",
    "    return arr\n",
    "\n",
    "\n",
    "arr = [12,34,-1,4,456,12]\n",
    "\n",
    "res = BubbleSort(arr)\n",
    "\n",
    "print(\"Result-->\",res)\n",
    "               "
   ]
  },
  {
   "cell_type": "markdown",
   "metadata": {},
   "source": [
    "## descending order using Bubble Sort "
   ]
  },
  {
   "cell_type": "code",
   "execution_count": 4,
   "metadata": {},
   "outputs": [
    {
     "name": "stdout",
     "output_type": "stream",
     "text": [
      "[45, 34, 19, 12, 3, 2, 1]\n"
     ]
    }
   ],
   "source": [
    "def Descending_order(arr:list)-> list:\n",
    "    n = len(arr)\n",
    "\n",
    "    for i in range(n):\n",
    "        swapped = False\n",
    "        for j in range(0,n - i - 1):\n",
    "            if arr[j] < arr[j + 1]:\n",
    "                arr[j],arr[j + 1] = arr[j + 1], arr[j]\n",
    "                swapped =True\n",
    "        if not swapped: \n",
    "            break\n",
    "\n",
    "    return arr\n",
    "\n",
    "\n",
    "arr = [12,34,1,45,19,3,2]\n",
    "\n",
    "res = Descending_order(arr)\n",
    "\n",
    "print(res)\n",
    "\n",
    "\n",
    "                       "
   ]
  },
  {
   "cell_type": "markdown",
   "metadata": {},
   "source": [
    "#### You are given a list of N integers. Instead of sorting the entire list, modify Bubble Sort to only sort the first K smallest elements in ascending order, while leaving the rest of the list unchanged.\n",
    "\n",
    "Input: arr = [7, 3, 9, 1, 6, 5], K = 3 \n",
    "Output: [1, 3, 5, 7, 6, 9]\n"
   ]
  },
  {
   "cell_type": "code",
   "execution_count": null,
   "metadata": {},
   "outputs": [
    {
     "name": "stdout",
     "output_type": "stream",
     "text": [
      "[12, 4, 56, 23, 13, 7]\n",
      "[4, 12, 56, 23, 13, 7]\n"
     ]
    }
   ],
   "source": [
    "def k_smallest(arr,k):\n",
    "    n = len(arr)\n",
    "    \n",
    "    temp = arr[:]\n",
    "\n",
    "    print(temp)\n",
    "\n",
    "    for i in range(len(temp)):\n",
    "        for j in range(n - i -1):\n",
    "            if temp[j] > temp[j + 1]:\n",
    "                temp[j],temp[j + 1] = temp[j +1],temp[j]\n",
    "    \n",
    "    k_smalest = temp[:k]\n",
    "\n",
    "    k_largest = [arr[x] for x in range(len(arr)) if arr[x] not in k_smalest]\n",
    "\n",
    "    k_smalest.extend(k_largest)\n",
    "\n",
    "            \n",
    "\n",
    "    return k_smalest\n",
    "\n",
    "\n",
    "\n",
    "arr = [12,4,56,23,13,7]\n",
    "res = k_smallest(arr,1)\n",
    "\n",
    "print(res)\n"
   ]
  },
  {
   "cell_type": "markdown",
   "metadata": {},
   "source": [
    "### Problem Statement:\n",
    "- You are given a list of N integers. Your task is to modify the Bubble Sort algorithm to sort only the even numbers in ascending order while keeping the odd numbers in their original positions."
   ]
  },
  {
   "cell_type": "code",
   "execution_count": 54,
   "metadata": {},
   "outputs": [
    {
     "name": "stdout",
     "output_type": "stream",
     "text": [
      "[9, 3, 2, 7, 4, 6, 5, 8]\n"
     ]
    }
   ],
   "source": [
    "def sort_evennumbers(arr):\n",
    "\n",
    "    even_numbers = [arr[i] for i in range(len(arr)) if arr[i] % 2 == 0]\n",
    "\n",
    "\n",
    "    n = len(even_numbers)\n",
    "\n",
    "    for i in range(n):\n",
    "        swapped = False\n",
    "        for j in range(n - i - 1):\n",
    "            if even_numbers[j] > even_numbers[j + 1]:\n",
    "                even_numbers[j],even_numbers[j + 1] = even_numbers[j + 1],even_numbers[j]\n",
    "\n",
    "    \n",
    "    index = 0\n",
    "    for i in range(len(arr)):\n",
    "        if arr[i] % 2 ==0:\n",
    "            arr[i] = even_numbers[index]\n",
    "            index += 1\n",
    "\n",
    "    \n",
    "\n",
    "    return arr\n",
    "\n",
    "\n",
    "arr = [9, 3, 8, 7, 2, 6, 5, 4]\n",
    "res  = sort_evennumbers(arr)\n",
    "\n",
    "print(res)"
   ]
  },
  {
   "cell_type": "markdown",
   "metadata": {},
   "source": [
    "## Problem: Sort Only Odd Numbers Using Bubble Sort\n",
    "- Modify an array such that only the odd numbers are sorted in ascending order, while even numbers remain in their original positions."
   ]
  },
  {
   "cell_type": "code",
   "execution_count": 67,
   "metadata": {},
   "outputs": [
    {
     "name": "stdout",
     "output_type": "stream",
     "text": [
      "Odd Numbers : [7, 3, 9, 1]\n",
      "[1, 2, 3, 8, 7, 4, 9, 6]\n"
     ]
    }
   ],
   "source": [
    "def sort_odd_numbers(arr):\n",
    "    \n",
    "    odd_numbers = [arr[x] for x in range(len(arr)) if arr[x] % 2 != 0]\n",
    "\n",
    "    print(\"Odd Numbers :\",odd_numbers)\n",
    "\n",
    "    n = len(odd_numbers)\n",
    "\n",
    "    for i in range(n):\n",
    "        swapped = False\n",
    "        for j in range(n - i - 1):\n",
    "            if odd_numbers[j] > odd_numbers[j + 1]:\n",
    "                odd_numbers[j],odd_numbers[j + 1] = odd_numbers[j + 1], odd_numbers[j]\n",
    "                swapped = True\n",
    "\n",
    "        if not swapped:\n",
    "            break\n",
    "\n",
    "    index = 0\n",
    "\n",
    "    for  i in range(len(arr)):\n",
    "        if arr[i] % 2 != 0:\n",
    "            arr[i] = odd_numbers[index]\n",
    "            index += 1\n",
    "\n",
    "\n",
    "    return arr\n",
    " \n",
    "\n",
    "arr = [7, 2, 3, 8, 9, 4, 1, 6]\n",
    "\n",
    "res = sort_odd_numbers(arr)\n",
    "\n",
    "print(res)\n",
    "\n",
    "    "
   ]
  },
  {
   "cell_type": "markdown",
   "metadata": {},
   "source": [
    "###  Sort the array in descending order using Bubble Sort, but only up to the first K elements. The rest of the list should remain unchanged."
   ]
  },
  {
   "cell_type": "code",
   "execution_count": null,
   "metadata": {},
   "outputs": [
    {
     "name": "stdout",
     "output_type": "stream",
     "text": [
      "[45, 12, 3, 1, 6, 9]\n"
     ]
    }
   ],
   "source": [
    "def sort_k_elements_desc(arr,i):\n",
    "\n",
    "    k_first = arr[:i]\n",
    "    k_sorted = arr[i:]\n",
    "    \n",
    "\n",
    "\n",
    "    for j in range(len(k_first)):\n",
    "        swapped = False\n",
    "        for k in range(len(k_first) - j - 1):\n",
    "            if k_first[k] < k_first[k + 1]:\n",
    "                k_first[k], k_first[k + 1] = k_first[k+ 1], k_first[k]\n",
    "                swapped = True\n",
    "\n",
    "        if not swapped:\n",
    "           break\n",
    "    \n",
    "    return k_first + k_sorted\n",
    "\n",
    "\n",
    "\n",
    "arr = [12, 3, 45, 1, 6, 9]\n",
    "k = 4\n",
    "res = sort_k_elements_desc(arr, k)\n",
    "\n",
    "print(res)  "
   ]
  },
  {
   "cell_type": "markdown",
   "metadata": {},
   "source": [
    "### Bubble Sort Problem: Sort Even-Indexed Elements in Ascending Order\n",
    "Problem Statement:\n",
    "You are given a list of integers. Modify Bubble Sort to sort only the elements at even indices (0, 2, 4, ...) in ascending order, while leaving the odd-indexed elements unchanged."
   ]
  },
  {
   "cell_type": "code",
   "execution_count": null,
   "metadata": {},
   "outputs": [
    {
     "name": "stdout",
     "output_type": "stream",
     "text": [
      "[7, 3, 2, 5, 4, 9, 8, 1]\n"
     ]
    }
   ],
   "source": [
    "def even_numbers_index_asc(arr):\n",
    "    even_numbers = [arr[x]  for x in range(len(arr)) if arr[x] % 2 == 0]\n",
    "\n",
    "    n = len(even_numbers)\n",
    "\n",
    "    for i in range(n):\n",
    "        swapped = False \n",
    "        for j in range(n - i - 1):\n",
    "            if even_numbers[j] > even_numbers[j + 1]:\n",
    "                even_numbers[j], even_numbers[j + 1] = even_numbers[j + 1], even_numbers[j]\n",
    "\n",
    "                swapped = True\n",
    "\n",
    "        if not swapped:\n",
    "            break\n",
    "\n",
    "    index = 0\n",
    "\n",
    "    for i in range(len(arr)):\n",
    "        if arr[i] % 2 == 0:\n",
    "            arr[i] = even_numbers[index]\n",
    "            index += 1\n",
    "\n",
    "    return arr\n",
    "\n",
    "arr = [7, 3, 8, 5, 2, 9, 4, 1]\n",
    "\n",
    "res = even_numbers_index_asc(arr)\n",
    "\n",
    "print(res)\n",
    "\n",
    "         \n"
   ]
  },
  {
   "cell_type": "markdown",
   "metadata": {},
   "source": [
    "### Bubble Sort Problem: Sort Odd-Indexed Elements in Descending Order\n",
    "Problem Statement:\n",
    "Given a list of numbers, sort only the elements that are at odd indices (index 1, 3, 5, ...) in descending order, while keeping the other elements unchanged.\n",
    "Input:\n",
    "arr = [7, 3, 8, 5, 2, 9, 4, 1]\n",
    "Expected Output:\n",
    "[7, 9, 8, 5, 2, 3, 4, 1]"
   ]
  },
  {
   "cell_type": "code",
   "execution_count": 16,
   "metadata": {},
   "outputs": [
    {
     "name": "stdout",
     "output_type": "stream",
     "text": [
      "[9, 7, 8, 5, 2, 3, 4, 1]\n"
     ]
    }
   ],
   "source": [
    "def  odd_number_sort_desc(arr):\n",
    "\n",
    "    odd_numbers = [arr[x] for x in range(len(arr)) if arr[x] % 2 != 0]\n",
    "\n",
    "    n = len(odd_numbers)\n",
    "\n",
    "    for i in range(n):\n",
    "        swapped = False\n",
    "        for j in range(n - i - 1):\n",
    "            if  odd_numbers[j] < odd_numbers[j + 1]:\n",
    "                odd_numbers[j], odd_numbers[j + 1] = odd_numbers[j + 1], odd_numbers[j]\n",
    "                swapped = True\n",
    "\n",
    "        if not swapped:\n",
    "            break\n",
    "\n",
    "    index = 0\n",
    "\n",
    "    for i in range(len(arr)):\n",
    "        if arr[i] % 2  != 0:\n",
    "            arr[i] = odd_numbers[index]\n",
    "            index += 1\n",
    "    return arr\n",
    "\n",
    "arr = [7, 3, 8, 5, 2, 9, 4, 1]\n",
    "res = odd_number_sort_desc(arr)\n",
    "\n",
    "print(res)"
   ]
  },
  {
   "cell_type": "markdown",
   "metadata": {},
   "source": [
    "## Bubble Sort Problem: Sort First K Odd Numbers in Ascending Order\n",
    "Problem Statement:\n",
    "Given a list of numbers and an integer K, sort only the first K odd numbers in ascending order, while keeping the rest of the list unchanged.\n",
    "\n",
    "Input:\n",
    "arr = [9, 3, 8, 5, 7, 2, 1, 6]\n",
    "k = 3\n",
    "Expected Output:\n",
    "[3, 5, 8, 9, 7, 2, 1, 6]"
   ]
  },
  {
   "cell_type": "code",
   "execution_count": 19,
   "metadata": {},
   "outputs": [
    {
     "name": "stdout",
     "output_type": "stream",
     "text": [
      "[3, 5, 8, 9, 7, 2, 1, 6]\n"
     ]
    }
   ],
   "source": [
    "def sort_first_k_elements(arr,k):\n",
    "    \n",
    "    odd_numbers = [arr[x] for x in range(len(arr)) if arr[x] % 2 != 0]\n",
    "    k_sorted_first = odd_numbers[:k]\n",
    "\n",
    "    \n",
    "    n = len(k_sorted_first)\n",
    "\n",
    "    for i in range(n):\n",
    "        swapped = False\n",
    "        for j in range(n - i - 1):\n",
    "            if k_sorted_first[j] > k_sorted_first[j + 1]:\n",
    "                k_sorted_first[j], k_sorted_first[j + 1] = k_sorted_first[j + 1], k_sorted_first[j]\n",
    "                swapped = True\n",
    "        if not swapped:\n",
    "            break\n",
    "    \n",
    "    index = 0\n",
    "    for i in range(len(arr)):\n",
    "        if arr[i] % 2 != 0 and index < k:\n",
    "            arr[i] = k_sorted_first[index]\n",
    "            index += 1\n",
    "\n",
    "    return arr\n",
    "\n",
    "arr = [9, 3, 8, 5, 7, 2, 1, 6]\n",
    "k = 3\n",
    "res = sort_first_k_elements(arr,k)\n",
    "\n",
    "print(res)\n"
   ]
  },
  {
   "cell_type": "markdown",
   "metadata": {},
   "source": [
    "### Bubble Sort Problem: Sort First K Even Numbers in Descending Order\n",
    "Problem Statement:\n",
    "Given a list of numbers and an integer K, sort only the first K even numbers in descending order, while keeping the rest of the list unchanged.\n",
    "\n"
   ]
  },
  {
   "cell_type": "code",
   "execution_count": 25,
   "metadata": {},
   "outputs": [
    {
     "name": "stdout",
     "output_type": "stream",
     "text": [
      "[12, 10, 8, 3, 6, 15, 4, 7]\n"
     ]
    }
   ],
   "source": [
    "def even_sort_k_first_elements(arr,k):\n",
    "    even_numbers  = [arr[x] for x in range(len(arr)) if arr[x] % 2 == 0]\n",
    "    even_k_first = even_numbers[:k]\n",
    "\n",
    "    n = len(even_k_first)\n",
    "\n",
    "    for i in range(n):\n",
    "        swapped = False\n",
    "        for j in range(n - i - 1):\n",
    "            if even_k_first[j] < even_k_first[j + 1]:\n",
    "                even_k_first[j],even_k_first[j + 1] = even_k_first[j + 1], even_k_first[j]\n",
    "                swapped = True\n",
    "        if not swapped:\n",
    "            break\n",
    "    \n",
    "    # index = 0 \n",
    "    # for i in range(len(arr)):\n",
    "    #     if arr[i] % 2 == 0 and index < k:\n",
    "    #          arr[i] = even_k_first[index]\n",
    "    #          index += 1\n",
    "\n",
    "    # return arr\n",
    "\n",
    "    return even_k_first + [arr[x] for x in range(len(arr)) if arr[x] not in even_k_first]\n",
    "\n",
    "arr = [10, 3, 8, 12, 6, 15, 4, 7]\n",
    "k = 3\n",
    "res = even_sort_k_first_elements(arr,k)\n",
    "\n",
    "print(res)"
   ]
  },
  {
   "cell_type": "markdown",
   "metadata": {},
   "source": [
    "### Problem Statement:\n",
    "Given an array of integers, sort only the prime numbers in ascending order while keeping the non-prime numbers in their original positions."
   ]
  },
  {
   "cell_type": "code",
   "execution_count": null,
   "metadata": {},
   "outputs": [
    {
     "name": "stdout",
     "output_type": "stream",
     "text": [
      "[2, 4, 3, 8, 5, 9, 7, 1]\n"
     ]
    }
   ],
   "source": [
    "import math\n",
    "def sort_prime_numbers(arr : any)->list:\n",
    "\n",
    "    def check_prime_number(n):      \n",
    "        if n <= 1:\n",
    "            return False\n",
    "        elif n == 2 or n  == 3:\n",
    "            return True\n",
    "        elif n % 2 == 0:\n",
    "            return False\n",
    "        for i in range(3,int(math.sqrt(n)) + 1, 2):\n",
    "            if n % i == 0:\n",
    "                return False\n",
    "        return True\n",
    "    \n",
    "    prime_number = [arr[x] for x in range(len(arr)) if check_prime_number(arr[x])]\n",
    "    \n",
    "    n = len(prime_number)\n",
    "\n",
    "    for i in range(n):\n",
    "        swapped = False\n",
    "        for j in range(n - i - 1):\n",
    "            if prime_number[j] > prime_number[j + 1]:\n",
    "                prime_number[j],prime_number[j + 1] = prime_number[j + 1], prime_number[j]\n",
    "                swapped = True\n",
    "\n",
    "        if not swapped:\n",
    "            break\n",
    "    index = 0\n",
    "\n",
    "    for i in range(len(arr)):\n",
    "        if check_prime_number(arr[i]):\n",
    "            arr[i] = prime_number[index]\n",
    "            index += 1\n",
    "    \n",
    "    return arr\n",
    "\n",
    "arr = [7, 4, 3, 8, 5, 9, 2, 1]\n",
    "res = sort_prime_numbers(arr)\n",
    "\n",
    "print(res)"
   ]
  },
  {
   "cell_type": "markdown",
   "metadata": {},
   "source": [
    "##  Hard Problem on Bubble Sort\n",
    "##### Problem Statement:\n",
    "Sort by Frequency Using Bubble Sort\n",
    "You are given a list of integers. Your task is to sort the list in descending order based on the frequency of elements.\n",
    "\n",
    "If two elements have the same frequency, sort them by their actual value in ascending order.\n",
    "\n",
    "Input: arr = [4, 5, 6, 5, 4, 3]\n",
    "Output: [5, 4, 3, 6] \n"
   ]
  },
  {
   "cell_type": "code",
   "execution_count": null,
   "metadata": {},
   "outputs": [
    {
     "name": "stdout",
     "output_type": "stream",
     "text": [
      "[(4, 2), (5, 2), (6, 1), (3, 1)]\n"
     ]
    }
   ],
   "source": [
    "def sort_by_frequency(arr):\n",
    "    \n",
    "    frequency_ele = {}\n",
    "    for  num  in arr:\n",
    "        if num in frequency_ele:\n",
    "            frequency_ele[num] += 1\n",
    "        else: \n",
    "            frequency_ele[num] = 1\n",
    "\n",
    "    frequency_tuple = [(key,value)for key,value in frequency_ele.items()]\n",
    "\n",
    "    n = len(frequency_tuple)\n",
    "\n",
    "    for i in range(n):\n",
    "        swapped = False\n",
    "        for j in range(n - i - 1):\n",
    "            if frequency_tuple[j][1] < frequency_tuple[j + 1][1]:\n",
    "                frequency_tuple[j],frequency_tuple[j + 1] = frequency_tuple[j + 1], frequency_tuple[j]\n",
    "                swapped = True\n",
    "            elif frequency_tuple[j][1] == frequency_tuple[j + 1][1] and frequency_tuple[j][0] > frequency_tuple[j + 1][0]:\n",
    "                frequency_tuple[j], frequency_tuple[j + 1] = frequency_tuple[j + 1], frequency_tuple[j]\n",
    "                swapped = True\n",
    "\n",
    "            if not swapped:\n",
    "                break\n",
    "\n",
    "    \n",
    "\n",
    "    return  frequency_tuple\n",
    "\n",
    "\n",
    "\n",
    "\n",
    "\n",
    "arr = [4, 5, 6, 5, 4, 3]\n",
    "\n",
    "res = sort_by_frequency(arr)\n",
    "\n",
    "print(res)\n",
    "\n",
    "\n",
    "    "
   ]
  }
 ],
 "metadata": {
  "kernelspec": {
   "display_name": "dsa",
   "language": "python",
   "name": "python3"
  },
  "language_info": {
   "codemirror_mode": {
    "name": "ipython",
    "version": 3
   },
   "file_extension": ".py",
   "mimetype": "text/x-python",
   "name": "python",
   "nbconvert_exporter": "python",
   "pygments_lexer": "ipython3",
   "version": "3.12.4"
  }
 },
 "nbformat": 4,
 "nbformat_minor": 2
}
