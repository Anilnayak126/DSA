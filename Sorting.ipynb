{
 "cells": [
  {
   "cell_type": "markdown",
   "metadata": {},
   "source": [
    "## BubbleSort"
   ]
  },
  {
   "cell_type": "code",
   "execution_count": 3,
   "metadata": {},
   "outputs": [
    {
     "name": "stdout",
     "output_type": "stream",
     "text": [
      "Result--> [-1, 4, 12, 12, 34, 456]\n"
     ]
    }
   ],
   "source": [
    "def BubbleSort(arr):\n",
    "    n = len(arr)\n",
    "\n",
    "    for i in range(n):\n",
    "        swapped = False\n",
    "        for j in range(0,n - i - 1):\n",
    "\n",
    "            if arr[j] > arr[j + 1]:\n",
    "                arr[j],arr[j+1] = arr[j + 1], arr[j]\n",
    "                swapped = True\n",
    "\n",
    "        if not swapped:\n",
    "            break\n",
    "    return arr\n",
    "\n",
    "\n",
    "arr = [12,34,-1,4,456,12]\n",
    "\n",
    "res = BubbleSort(arr)\n",
    "\n",
    "print(\"Result-->\",res)\n",
    "               "
   ]
  },
  {
   "cell_type": "markdown",
   "metadata": {},
   "source": [
    "## descending order using Bubble Sort "
   ]
  },
  {
   "cell_type": "code",
   "execution_count": 4,
   "metadata": {},
   "outputs": [
    {
     "name": "stdout",
     "output_type": "stream",
     "text": [
      "[45, 34, 19, 12, 3, 2, 1]\n"
     ]
    }
   ],
   "source": [
    "def Descending_order(arr:list)-> list:\n",
    "    n = len(arr)\n",
    "\n",
    "    for i in range(n):\n",
    "        swapped = False\n",
    "        for j in range(0,n - i - 1):\n",
    "            if arr[j] < arr[j + 1]:\n",
    "                arr[j],arr[j + 1] = arr[j + 1], arr[j]\n",
    "                swapped =True\n",
    "        if not swapped: \n",
    "            break\n",
    "\n",
    "    return arr\n",
    "\n",
    "\n",
    "arr = [12,34,1,45,19,3,2]\n",
    "\n",
    "res = Descending_order(arr)\n",
    "\n",
    "print(res)\n",
    "\n",
    "\n",
    "                       "
   ]
  },
  {
   "cell_type": "markdown",
   "metadata": {},
   "source": [
    "#### You are given a list of N integers. Instead of sorting the entire list, modify Bubble Sort to only sort the first K smallest elements in ascending order, while leaving the rest of the list unchanged.\n",
    "\n",
    "Input: arr = [7, 3, 9, 1, 6, 5], K = 3 \n",
    "Output: [1, 3, 5, 7, 6, 9]\n"
   ]
  },
  {
   "cell_type": "code",
   "execution_count": null,
   "metadata": {},
   "outputs": [
    {
     "name": "stdout",
     "output_type": "stream",
     "text": [
      "[12, 4, 56, 23, 13, 7]\n",
      "[4, 12, 56, 23, 13, 7]\n"
     ]
    }
   ],
   "source": [
    "def k_smallest(arr,k):\n",
    "    n = len(arr)\n",
    "    \n",
    "    temp = arr[:]\n",
    "\n",
    "    print(temp)\n",
    "\n",
    "    for i in range(len(temp)):\n",
    "        for j in range(n - i -1):\n",
    "            if temp[j] > temp[j + 1]:\n",
    "                temp[j],temp[j + 1] = temp[j +1],temp[j]\n",
    "    \n",
    "    k_smalest = temp[:k]\n",
    "\n",
    "    k_largest = [arr[x] for x in range(len(arr)) if arr[x] not in k_smalest]\n",
    "\n",
    "    k_smalest.extend(k_largest)\n",
    "\n",
    "            \n",
    "\n",
    "    return k_smalest\n",
    "\n",
    "\n",
    "\n",
    "arr = [12,4,56,23,13,7]\n",
    "res = k_smallest(arr,1)\n",
    "\n",
    "print(res)\n"
   ]
  }
 ],
 "metadata": {
  "kernelspec": {
   "display_name": "dsa",
   "language": "python",
   "name": "python3"
  },
  "language_info": {
   "codemirror_mode": {
    "name": "ipython",
    "version": 3
   },
   "file_extension": ".py",
   "mimetype": "text/x-python",
   "name": "python",
   "nbconvert_exporter": "python",
   "pygments_lexer": "ipython3",
   "version": "3.12.4"
  }
 },
 "nbformat": 4,
 "nbformat_minor": 2
}
